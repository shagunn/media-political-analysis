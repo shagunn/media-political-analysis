{
 "cells": [
  {
   "cell_type": "markdown",
   "metadata": {},
   "source": [
    "# Comparing the Sources: AllSides and Media Bias/Fact Check \n",
    "------------\n",
    "\n",
    "#### Page is divided as follows:\n",
    "**1. [AllSides Data](#1.-AllSides-Data)**\n",
    "\n",
    "**2. [MBFC Data](#2.-Media-Bias-/-Fact-Check-Data)**\n",
    "\n",
    "**3. [Comparing AllSides vs. Media Bias/Fact Check](#3.-Comparing-the-Merged-Dataset:-AllSides-vs-MBFC-Political-Bias-Ratings)**\n",
    "\n",
    "\n",
    "**Note: run the [imports and functions](#Imports-and-Functions) at the bottom of the page before running rest of the code**"
   ]
  },
  {
   "cell_type": "markdown",
   "metadata": {},
   "source": [
    "# 1. AllSides Data\n",
    "-----------\n",
    "#### This section is divided into the following segments:\n",
    "1. [Loading Data](#1.1-Load-Data)\n",
    "2. [Breakdown of Bias Ratings - First Look](#1.2-Breakdown-of-Bias-Ratings---First-Look)\n",
    "3. [Breakdown of Political Bias Ratings](#1.3-Breakdown-of-Political-Bias-Ratings)\n",
    "4. [Which News Sources Have the Most and Least Agreement?](#1.4-Which-News-Sources-Have-the-Most-and-Least-Agreement)\n",
    "\n",
    "\n",
    "#### Data was scraped from AllSides [Media Ratings Page](https://www.allsides.com/media-bias/media-bias-ratings#ratings). \n",
    "\n",
    "#### Referring to the image below:\n",
    "* #### AllSides has their ratings divided broadly by media type - \"News Media\", \"Think Tank/Policy Group\" and \"Authors\". I collected info for all three (check the data folder), but only analyzed \"News Media\" bias ratings below. since the \"Think Tank / Policy Group\" and \"Reference\" sources were a) limited and b) beyond the scope of this paper. \n",
    "* #### \"Not Rated\" sites were collected seprately (check the subfolder) for completeness but ultimately not used here because the majority of them have no information (no links to the news site, no other information, no rating). They are user submitted and yet to be evaluated.\n",
    "\n",
    "<img src=\"images/AllSides_DataCollected.png\" alt=\"Drawing\" style=\"width: 600px;\"/>"
   ]
  },
  {
   "cell_type": "markdown",
   "metadata": {},
   "source": [
    "## 1.1 Load Data"
   ]
  },
  {
   "cell_type": "code",
   "execution_count": 4,
   "metadata": {},
   "outputs": [
    {
     "name": "stdout",
     "output_type": "stream",
     "text": [
      "(333, 7)\n"
     ]
    },
    {
     "data": {
      "text/html": [
       "<div>\n",
       "<style scoped>\n",
       "    .dataframe tbody tr th:only-of-type {\n",
       "        vertical-align: middle;\n",
       "    }\n",
       "\n",
       "    .dataframe tbody tr th {\n",
       "        vertical-align: top;\n",
       "    }\n",
       "\n",
       "    .dataframe thead th {\n",
       "        text-align: right;\n",
       "    }\n",
       "</style>\n",
       "<table border=\"1\" class=\"dataframe\">\n",
       "  <thead>\n",
       "    <tr style=\"text-align: right;\">\n",
       "      <th></th>\n",
       "      <th>name</th>\n",
       "      <th>url_as</th>\n",
       "      <th>bias_as</th>\n",
       "      <th>agree_as</th>\n",
       "      <th>disagree_as</th>\n",
       "      <th>agree_ratio_as</th>\n",
       "      <th>agree_desc_as</th>\n",
       "    </tr>\n",
       "  </thead>\n",
       "  <tbody>\n",
       "    <tr>\n",
       "      <td>0</td>\n",
       "      <td>ABC News</td>\n",
       "      <td>https://www.allsides.com/news-source/abc-news-...</td>\n",
       "      <td>left-center</td>\n",
       "      <td>17523</td>\n",
       "      <td>11118</td>\n",
       "      <td>1.576093</td>\n",
       "      <td>agree</td>\n",
       "    </tr>\n",
       "    <tr>\n",
       "      <td>1</td>\n",
       "      <td>Above The Law</td>\n",
       "      <td>https://www.allsides.com/news-source/above-law...</td>\n",
       "      <td>left-center</td>\n",
       "      <td>8</td>\n",
       "      <td>5</td>\n",
       "      <td>1.600000</td>\n",
       "      <td>agree</td>\n",
       "    </tr>\n",
       "    <tr>\n",
       "      <td>2</td>\n",
       "      <td>Abridge News</td>\n",
       "      <td>https://www.allsides.com/news-source/abridge-n...</td>\n",
       "      <td>allsides</td>\n",
       "      <td>159</td>\n",
       "      <td>98</td>\n",
       "      <td>1.622449</td>\n",
       "      <td>agree</td>\n",
       "    </tr>\n",
       "    <tr>\n",
       "      <td>3</td>\n",
       "      <td>AJ+</td>\n",
       "      <td>https://www.allsides.com/news-source/aj-media-...</td>\n",
       "      <td>left</td>\n",
       "      <td>169</td>\n",
       "      <td>75</td>\n",
       "      <td>2.253333</td>\n",
       "      <td>strongly agree</td>\n",
       "    </tr>\n",
       "    <tr>\n",
       "      <td>4</td>\n",
       "      <td>Al Jazeera</td>\n",
       "      <td>https://www.allsides.com/news-source/al-jazeer...</td>\n",
       "      <td>left-center</td>\n",
       "      <td>3986</td>\n",
       "      <td>6440</td>\n",
       "      <td>0.618944</td>\n",
       "      <td>disagree</td>\n",
       "    </tr>\n",
       "  </tbody>\n",
       "</table>\n",
       "</div>"
      ],
      "text/plain": [
       "            name                                             url_as  \\\n",
       "0       ABC News  https://www.allsides.com/news-source/abc-news-...   \n",
       "1  Above The Law  https://www.allsides.com/news-source/above-law...   \n",
       "2   Abridge News  https://www.allsides.com/news-source/abridge-n...   \n",
       "3            AJ+  https://www.allsides.com/news-source/aj-media-...   \n",
       "4     Al Jazeera  https://www.allsides.com/news-source/al-jazeer...   \n",
       "\n",
       "       bias_as  agree_as  disagree_as  agree_ratio_as   agree_desc_as  \n",
       "0  left-center     17523        11118        1.576093           agree  \n",
       "1  left-center         8            5        1.600000           agree  \n",
       "2     allsides       159           98        1.622449           agree  \n",
       "3         left       169           75        2.253333  strongly agree  \n",
       "4  left-center      3986         6440        0.618944        disagree  "
      ]
     },
     "execution_count": 4,
     "metadata": {},
     "output_type": "execute_result"
    }
   ],
   "source": [
    "# load data\n",
    "df_allsides_raw = pd.read_csv(ALLSIDES_DATA)\n",
    "print(df_allsides_raw.shape)\n",
    "df_allsides_raw.head()"
   ]
  },
  {
   "cell_type": "markdown",
   "metadata": {},
   "source": [
    "#### General note: please ignore the \"agree_ratio_as\" column wherever you see it- there is an error. "
   ]
  },
  {
   "cell_type": "code",
   "execution_count": 5,
   "metadata": {},
   "outputs": [
    {
     "name": "stdout",
     "output_type": "stream",
     "text": [
      "There are 333 rated sources in AllSides\n"
     ]
    }
   ],
   "source": [
    "num_sources_as = df_allsides_raw.shape[0]\n",
    "print(\"There are {} rated sources in AllSides\".format(num_sources_as))"
   ]
  },
  {
   "cell_type": "markdown",
   "metadata": {},
   "source": [
    "#### a) Cursory check for duplicates: "
   ]
  },
  {
   "cell_type": "code",
   "execution_count": 6,
   "metadata": {},
   "outputs": [
    {
     "data": {
      "text/html": [
       "<div>\n",
       "<style scoped>\n",
       "    .dataframe tbody tr th:only-of-type {\n",
       "        vertical-align: middle;\n",
       "    }\n",
       "\n",
       "    .dataframe tbody tr th {\n",
       "        vertical-align: top;\n",
       "    }\n",
       "\n",
       "    .dataframe thead th {\n",
       "        text-align: right;\n",
       "    }\n",
       "</style>\n",
       "<table border=\"1\" class=\"dataframe\">\n",
       "  <thead>\n",
       "    <tr style=\"text-align: right;\">\n",
       "      <th></th>\n",
       "      <th>name</th>\n",
       "      <th>url_as</th>\n",
       "      <th>bias_as</th>\n",
       "      <th>agree_as</th>\n",
       "      <th>disagree_as</th>\n",
       "      <th>agree_ratio_as</th>\n",
       "      <th>agree_desc_as</th>\n",
       "    </tr>\n",
       "  </thead>\n",
       "  <tbody>\n",
       "    <tr>\n",
       "      <td>185</td>\n",
       "      <td>PJ Media</td>\n",
       "      <td>https://www.allsides.com/news-source/pj-media</td>\n",
       "      <td>right</td>\n",
       "      <td>256</td>\n",
       "      <td>140</td>\n",
       "      <td>1.828571</td>\n",
       "      <td>agree</td>\n",
       "    </tr>\n",
       "    <tr>\n",
       "      <td>186</td>\n",
       "      <td>PJ Media</td>\n",
       "      <td>https://www.allsides.com/news-source/pj-media-...</td>\n",
       "      <td>right-center</td>\n",
       "      <td>194</td>\n",
       "      <td>169</td>\n",
       "      <td>1.147929</td>\n",
       "      <td>somewhat agree</td>\n",
       "    </tr>\n",
       "  </tbody>\n",
       "</table>\n",
       "</div>"
      ],
      "text/plain": [
       "         name                                             url_as  \\\n",
       "185  PJ Media      https://www.allsides.com/news-source/pj-media   \n",
       "186  PJ Media  https://www.allsides.com/news-source/pj-media-...   \n",
       "\n",
       "          bias_as  agree_as  disagree_as  agree_ratio_as   agree_desc_as  \n",
       "185         right       256          140        1.828571           agree  \n",
       "186  right-center       194          169        1.147929  somewhat agree  "
      ]
     },
     "execution_count": 6,
     "metadata": {},
     "output_type": "execute_result"
    }
   ],
   "source": [
    "df_allsides_raw[df_allsides_raw.duplicated(subset='name', keep=False)]"
   ]
  },
  {
   "cell_type": "markdown",
   "metadata": {},
   "source": [
    "Looking at the links on AllSides websites suggests that these are the same?? Can't spot the difference. \n",
    "\n",
    "\n",
    "#### b) AllSides also has different ratings for \"news\" and \"editorial\" pages:"
   ]
  },
  {
   "cell_type": "code",
   "execution_count": 7,
   "metadata": {},
   "outputs": [
    {
     "data": {
      "text/html": [
       "<div>\n",
       "<style scoped>\n",
       "    .dataframe tbody tr th:only-of-type {\n",
       "        vertical-align: middle;\n",
       "    }\n",
       "\n",
       "    .dataframe tbody tr th {\n",
       "        vertical-align: top;\n",
       "    }\n",
       "\n",
       "    .dataframe thead th {\n",
       "        text-align: right;\n",
       "    }\n",
       "</style>\n",
       "<table border=\"1\" class=\"dataframe\">\n",
       "  <thead>\n",
       "    <tr style=\"text-align: right;\">\n",
       "      <th></th>\n",
       "      <th>name</th>\n",
       "      <th>url_as</th>\n",
       "      <th>bias_as</th>\n",
       "      <th>agree_as</th>\n",
       "      <th>disagree_as</th>\n",
       "      <th>agree_ratio_as</th>\n",
       "      <th>agree_desc_as</th>\n",
       "    </tr>\n",
       "  </thead>\n",
       "  <tbody>\n",
       "    <tr>\n",
       "      <td>96</td>\n",
       "      <td>Fox News Latino</td>\n",
       "      <td>https://www.allsides.com/news-source/fox-news-...</td>\n",
       "      <td>right</td>\n",
       "      <td>1845</td>\n",
       "      <td>953</td>\n",
       "      <td>1.935992</td>\n",
       "      <td>agree</td>\n",
       "    </tr>\n",
       "    <tr>\n",
       "      <td>97</td>\n",
       "      <td>Fox News Opinion</td>\n",
       "      <td>https://www.allsides.com/news-source/fox-news-...</td>\n",
       "      <td>right</td>\n",
       "      <td>10233</td>\n",
       "      <td>2419</td>\n",
       "      <td>4.230260</td>\n",
       "      <td>absolutely agree</td>\n",
       "    </tr>\n",
       "    <tr>\n",
       "      <td>98</td>\n",
       "      <td>Fox Online News</td>\n",
       "      <td>https://www.allsides.com/news-source/fox-news-...</td>\n",
       "      <td>right-center</td>\n",
       "      <td>25988</td>\n",
       "      <td>34798</td>\n",
       "      <td>0.746825</td>\n",
       "      <td>somewhat disagree</td>\n",
       "    </tr>\n",
       "    <tr>\n",
       "      <td>166</td>\n",
       "      <td>New York Times - News</td>\n",
       "      <td>https://www.allsides.com/news-source/new-york-...</td>\n",
       "      <td>left-center</td>\n",
       "      <td>18068</td>\n",
       "      <td>27607</td>\n",
       "      <td>0.654472</td>\n",
       "      <td>disagree</td>\n",
       "    </tr>\n",
       "    <tr>\n",
       "      <td>167</td>\n",
       "      <td>New York Times - Opinion</td>\n",
       "      <td>https://www.allsides.com/news-source/new-york-...</td>\n",
       "      <td>left</td>\n",
       "      <td>4599</td>\n",
       "      <td>1452</td>\n",
       "      <td>3.167355</td>\n",
       "      <td>absolutely agree</td>\n",
       "    </tr>\n",
       "  </tbody>\n",
       "</table>\n",
       "</div>"
      ],
      "text/plain": [
       "                         name  \\\n",
       "96            Fox News Latino   \n",
       "97           Fox News Opinion   \n",
       "98            Fox Online News   \n",
       "166     New York Times - News   \n",
       "167  New York Times - Opinion   \n",
       "\n",
       "                                                url_as       bias_as  \\\n",
       "96   https://www.allsides.com/news-source/fox-news-...         right   \n",
       "97   https://www.allsides.com/news-source/fox-news-...         right   \n",
       "98   https://www.allsides.com/news-source/fox-news-...  right-center   \n",
       "166  https://www.allsides.com/news-source/new-york-...   left-center   \n",
       "167  https://www.allsides.com/news-source/new-york-...          left   \n",
       "\n",
       "     agree_as  disagree_as  agree_ratio_as      agree_desc_as  \n",
       "96       1845          953        1.935992              agree  \n",
       "97      10233         2419        4.230260   absolutely agree  \n",
       "98      25988        34798        0.746825  somewhat disagree  \n",
       "166     18068        27607        0.654472           disagree  \n",
       "167      4599         1452        3.167355   absolutely agree  "
      ]
     },
     "execution_count": 7,
     "metadata": {},
     "output_type": "execute_result"
    }
   ],
   "source": [
    "df_allsides_raw[df_allsides_raw['name'].str.contains(\"New York Times\") | df_allsides_raw['name'].str.contains(\"Fox\")]"
   ]
  },
  {
   "cell_type": "markdown",
   "metadata": {},
   "source": [
    "#### c) AllSides also seems to has 3 \"major media sources\" - these are not actual news sources, not sure why they are on their list:"
   ]
  },
  {
   "cell_type": "code",
   "execution_count": 8,
   "metadata": {},
   "outputs": [
    {
     "data": {
      "text/html": [
       "<div>\n",
       "<style scoped>\n",
       "    .dataframe tbody tr th:only-of-type {\n",
       "        vertical-align: middle;\n",
       "    }\n",
       "\n",
       "    .dataframe tbody tr th {\n",
       "        vertical-align: top;\n",
       "    }\n",
       "\n",
       "    .dataframe thead th {\n",
       "        text-align: right;\n",
       "    }\n",
       "</style>\n",
       "<table border=\"1\" class=\"dataframe\">\n",
       "  <thead>\n",
       "    <tr style=\"text-align: right;\">\n",
       "      <th></th>\n",
       "      <th>name</th>\n",
       "      <th>url_as</th>\n",
       "      <th>bias_as</th>\n",
       "      <th>agree_as</th>\n",
       "      <th>disagree_as</th>\n",
       "      <th>agree_ratio_as</th>\n",
       "      <th>agree_desc_as</th>\n",
       "    </tr>\n",
       "  </thead>\n",
       "  <tbody>\n",
       "    <tr>\n",
       "      <td>40</td>\n",
       "      <td>Center - Major Media Sources</td>\n",
       "      <td>https://www.allsides.com/news-source/center-ma...</td>\n",
       "      <td>center</td>\n",
       "      <td>621</td>\n",
       "      <td>540</td>\n",
       "      <td>1.150000</td>\n",
       "      <td>somewhat agree</td>\n",
       "    </tr>\n",
       "    <tr>\n",
       "      <td>136</td>\n",
       "      <td>Left - Major Media Sources</td>\n",
       "      <td>https://www.allsides.com/news-source/left-majo...</td>\n",
       "      <td>left</td>\n",
       "      <td>562</td>\n",
       "      <td>439</td>\n",
       "      <td>1.280182</td>\n",
       "      <td>somewhat agree</td>\n",
       "    </tr>\n",
       "    <tr>\n",
       "      <td>209</td>\n",
       "      <td>Right - Major Media Sources</td>\n",
       "      <td>https://www.allsides.com/news-source/right-maj...</td>\n",
       "      <td>right</td>\n",
       "      <td>293</td>\n",
       "      <td>287</td>\n",
       "      <td>1.020906</td>\n",
       "      <td>somewhat agree</td>\n",
       "    </tr>\n",
       "  </tbody>\n",
       "</table>\n",
       "</div>"
      ],
      "text/plain": [
       "                             name  \\\n",
       "40   Center - Major Media Sources   \n",
       "136    Left - Major Media Sources   \n",
       "209   Right - Major Media Sources   \n",
       "\n",
       "                                                url_as bias_as  agree_as  \\\n",
       "40   https://www.allsides.com/news-source/center-ma...  center       621   \n",
       "136  https://www.allsides.com/news-source/left-majo...    left       562   \n",
       "209  https://www.allsides.com/news-source/right-maj...   right       293   \n",
       "\n",
       "     disagree_as  agree_ratio_as   agree_desc_as  \n",
       "40           540        1.150000  somewhat agree  \n",
       "136          439        1.280182  somewhat agree  \n",
       "209          287        1.020906  somewhat agree  "
      ]
     },
     "execution_count": 8,
     "metadata": {},
     "output_type": "execute_result"
    }
   ],
   "source": [
    "df_allsides_raw[df_allsides_raw['name'].str.contains(\"Major Media\")]"
   ]
  },
  {
   "cell_type": "markdown",
   "metadata": {},
   "source": [
    "#### d) AllSides also has a mix of different news sources:"
   ]
  },
  {
   "cell_type": "code",
   "execution_count": 9,
   "metadata": {},
   "outputs": [
    {
     "data": {
      "text/html": [
       "<div>\n",
       "<style scoped>\n",
       "    .dataframe tbody tr th:only-of-type {\n",
       "        vertical-align: middle;\n",
       "    }\n",
       "\n",
       "    .dataframe tbody tr th {\n",
       "        vertical-align: top;\n",
       "    }\n",
       "\n",
       "    .dataframe thead th {\n",
       "        text-align: right;\n",
       "    }\n",
       "</style>\n",
       "<table border=\"1\" class=\"dataframe\">\n",
       "  <thead>\n",
       "    <tr style=\"text-align: right;\">\n",
       "      <th></th>\n",
       "      <th>name</th>\n",
       "      <th>url_as</th>\n",
       "      <th>bias_as</th>\n",
       "      <th>agree_as</th>\n",
       "      <th>disagree_as</th>\n",
       "      <th>agree_ratio_as</th>\n",
       "      <th>agree_desc_as</th>\n",
       "    </tr>\n",
       "  </thead>\n",
       "  <tbody>\n",
       "    <tr>\n",
       "      <td>63</td>\n",
       "      <td>CU Independent</td>\n",
       "      <td>https://www.allsides.com/news-source/cu-indepe...</td>\n",
       "      <td>center</td>\n",
       "      <td>346</td>\n",
       "      <td>410</td>\n",
       "      <td>0.843902</td>\n",
       "      <td>somewhat disagree</td>\n",
       "    </tr>\n",
       "    <tr>\n",
       "      <td>101</td>\n",
       "      <td>Google News</td>\n",
       "      <td>https://www.allsides.com/news-source/google-ne...</td>\n",
       "      <td>left-center</td>\n",
       "      <td>311</td>\n",
       "      <td>230</td>\n",
       "      <td>1.352174</td>\n",
       "      <td>somewhat agree</td>\n",
       "    </tr>\n",
       "    <tr>\n",
       "      <td>117</td>\n",
       "      <td>Indiana Daily Student</td>\n",
       "      <td>https://www.allsides.com/news-source/indiana-d...</td>\n",
       "      <td>center</td>\n",
       "      <td>272</td>\n",
       "      <td>353</td>\n",
       "      <td>0.770538</td>\n",
       "      <td>somewhat disagree</td>\n",
       "    </tr>\n",
       "    <tr>\n",
       "      <td>139</td>\n",
       "      <td>Live Action News</td>\n",
       "      <td>https://www.allsides.com/news-source/live-acti...</td>\n",
       "      <td>right-center</td>\n",
       "      <td>280</td>\n",
       "      <td>186</td>\n",
       "      <td>1.505376</td>\n",
       "      <td>agree</td>\n",
       "    </tr>\n",
       "    <tr>\n",
       "      <td>232</td>\n",
       "      <td>Suspend Belief Podcast</td>\n",
       "      <td>https://www.allsides.com/news-source/suspend-b...</td>\n",
       "      <td>allsides</td>\n",
       "      <td>148</td>\n",
       "      <td>176</td>\n",
       "      <td>0.840909</td>\n",
       "      <td>somewhat disagree</td>\n",
       "    </tr>\n",
       "  </tbody>\n",
       "</table>\n",
       "</div>"
      ],
      "text/plain": [
       "                       name  \\\n",
       "63           CU Independent   \n",
       "101             Google News   \n",
       "117   Indiana Daily Student   \n",
       "139        Live Action News   \n",
       "232  Suspend Belief Podcast   \n",
       "\n",
       "                                                url_as       bias_as  \\\n",
       "63   https://www.allsides.com/news-source/cu-indepe...        center   \n",
       "101  https://www.allsides.com/news-source/google-ne...   left-center   \n",
       "117  https://www.allsides.com/news-source/indiana-d...        center   \n",
       "139  https://www.allsides.com/news-source/live-acti...  right-center   \n",
       "232  https://www.allsides.com/news-source/suspend-b...      allsides   \n",
       "\n",
       "     agree_as  disagree_as  agree_ratio_as      agree_desc_as  \n",
       "63        346          410        0.843902  somewhat disagree  \n",
       "101       311          230        1.352174     somewhat agree  \n",
       "117       272          353        0.770538  somewhat disagree  \n",
       "139       280          186        1.505376              agree  \n",
       "232       148          176        0.840909  somewhat disagree  "
      ]
     },
     "execution_count": 9,
     "metadata": {},
     "output_type": "execute_result"
    }
   ],
   "source": [
    "is_it_news = [\"CU Independent\", \"Indiana Daily Student\", \"Live Action News\", \"Google News\", \"Suspend Belief Podcast\"]\n",
    "df_allsides_raw[df_allsides_raw['name'].isin(is_it_news)]\n"
   ]
  },
  {
   "cell_type": "markdown",
   "metadata": {},
   "source": [
    "* CU Independent and Indiana Daily Student are student newspapers. Google News is an aggregator (not publisher). \"Live Action News\" is an American anti-abortion organization founded in 2003 ... is known for its undercover videos taken at Planned Parenthood clinics.\" - doesnt seem to be what we are going for (i.e., original reporting on different topics)?\n",
    "\n",
    "* Although many of these sources didn't end up in the comparison vs. MB/FC (there was no match), we will need to look @ this closely to see what constitues as \"news reporting\" for our paper"
   ]
  },
  {
   "cell_type": "markdown",
   "metadata": {},
   "source": [
    "## 1.2 Breakdown of Bias Ratings - First Look\n",
    "\n",
    "#### Lets look at the breakdown of the \"bias\" category:"
   ]
  },
  {
   "cell_type": "code",
   "execution_count": 10,
   "metadata": {
    "scrolled": true
   },
   "outputs": [
    {
     "name": "stdout",
     "output_type": "stream",
     "text": [
      "Total Sources: 333\n",
      "\n",
      "Category Count: \n",
      "center          112\n",
      "left-center      77\n",
      "left             51\n",
      "right            46\n",
      "right-center     36\n",
      "allsides         11\n",
      "Name: bias_as, dtype: int64 \n",
      "\n",
      "Category Percentage Breakdown: \n",
      "center          33.633634\n",
      "left-center     23.123123\n",
      "left            15.315315\n",
      "right           13.813814\n",
      "right-center    10.810811\n",
      "allsides         3.303303\n",
      "Name: bias_as, dtype: float64\n"
     ]
    }
   ],
   "source": [
    "print_stats(df_allsides_raw['bias_as'])"
   ]
  },
  {
   "cell_type": "markdown",
   "metadata": {},
   "source": [
    "#### What is the \"allsides\" category? Taking a closer look: "
   ]
  },
  {
   "cell_type": "code",
   "execution_count": 11,
   "metadata": {},
   "outputs": [
    {
     "data": {
      "text/html": [
       "<div>\n",
       "<style scoped>\n",
       "    .dataframe tbody tr th:only-of-type {\n",
       "        vertical-align: middle;\n",
       "    }\n",
       "\n",
       "    .dataframe tbody tr th {\n",
       "        vertical-align: top;\n",
       "    }\n",
       "\n",
       "    .dataframe thead th {\n",
       "        text-align: right;\n",
       "    }\n",
       "</style>\n",
       "<table border=\"1\" class=\"dataframe\">\n",
       "  <thead>\n",
       "    <tr style=\"text-align: right;\">\n",
       "      <th></th>\n",
       "      <th>name</th>\n",
       "      <th>url_as</th>\n",
       "      <th>bias_as</th>\n",
       "      <th>agree_as</th>\n",
       "      <th>disagree_as</th>\n",
       "      <th>agree_ratio_as</th>\n",
       "      <th>agree_desc_as</th>\n",
       "    </tr>\n",
       "  </thead>\n",
       "  <tbody>\n",
       "    <tr>\n",
       "      <td>2</td>\n",
       "      <td>Abridge News</td>\n",
       "      <td>https://www.allsides.com/news-source/abridge-n...</td>\n",
       "      <td>allsides</td>\n",
       "      <td>159</td>\n",
       "      <td>98</td>\n",
       "      <td>1.622449</td>\n",
       "      <td>agree</td>\n",
       "    </tr>\n",
       "    <tr>\n",
       "      <td>5</td>\n",
       "      <td>AllSides</td>\n",
       "      <td>https://www.allsides.com/news-source/allsides-0</td>\n",
       "      <td>allsides</td>\n",
       "      <td>3534</td>\n",
       "      <td>1423</td>\n",
       "      <td>2.483486</td>\n",
       "      <td>strongly agree</td>\n",
       "    </tr>\n",
       "    <tr>\n",
       "      <td>6</td>\n",
       "      <td>AllSides Community</td>\n",
       "      <td>https://www.allsides.com/news-source/allsides-...</td>\n",
       "      <td>allsides</td>\n",
       "      <td>2287</td>\n",
       "      <td>1373</td>\n",
       "      <td>1.665696</td>\n",
       "      <td>agree</td>\n",
       "    </tr>\n",
       "    <tr>\n",
       "      <td>22</td>\n",
       "      <td>Better Angels</td>\n",
       "      <td>https://www.allsides.com/news-source/better-an...</td>\n",
       "      <td>allsides</td>\n",
       "      <td>62</td>\n",
       "      <td>55</td>\n",
       "      <td>1.127273</td>\n",
       "      <td>somewhat agree</td>\n",
       "    </tr>\n",
       "    <tr>\n",
       "      <td>61</td>\n",
       "      <td>Counterpointing</td>\n",
       "      <td>https://www.allsides.com/news-source/counterpo...</td>\n",
       "      <td>allsides</td>\n",
       "      <td>371</td>\n",
       "      <td>348</td>\n",
       "      <td>1.066092</td>\n",
       "      <td>somewhat agree</td>\n",
       "    </tr>\n",
       "    <tr>\n",
       "      <td>138</td>\n",
       "      <td>Listen First Project</td>\n",
       "      <td>https://www.allsides.com/news-source/listen-fi...</td>\n",
       "      <td>allsides</td>\n",
       "      <td>132</td>\n",
       "      <td>105</td>\n",
       "      <td>1.257143</td>\n",
       "      <td>somewhat agree</td>\n",
       "    </tr>\n",
       "    <tr>\n",
       "      <td>152</td>\n",
       "      <td>Mismatch.org</td>\n",
       "      <td>https://www.allsides.com/news-source/mismatcho...</td>\n",
       "      <td>allsides</td>\n",
       "      <td>86</td>\n",
       "      <td>92</td>\n",
       "      <td>0.934783</td>\n",
       "      <td>somewhat disagree</td>\n",
       "    </tr>\n",
       "    <tr>\n",
       "      <td>230</td>\n",
       "      <td>StoryCorps</td>\n",
       "      <td>https://www.allsides.com/news-source/storycorp...</td>\n",
       "      <td>allsides</td>\n",
       "      <td>64</td>\n",
       "      <td>57</td>\n",
       "      <td>1.122807</td>\n",
       "      <td>somewhat agree</td>\n",
       "    </tr>\n",
       "    <tr>\n",
       "      <td>232</td>\n",
       "      <td>Suspend Belief Podcast</td>\n",
       "      <td>https://www.allsides.com/news-source/suspend-b...</td>\n",
       "      <td>allsides</td>\n",
       "      <td>148</td>\n",
       "      <td>176</td>\n",
       "      <td>0.840909</td>\n",
       "      <td>somewhat disagree</td>\n",
       "    </tr>\n",
       "    <tr>\n",
       "      <td>258</td>\n",
       "      <td>The Flip Side</td>\n",
       "      <td>https://www.allsides.com/news-source/flip-side...</td>\n",
       "      <td>allsides</td>\n",
       "      <td>306</td>\n",
       "      <td>241</td>\n",
       "      <td>1.269710</td>\n",
       "      <td>somewhat agree</td>\n",
       "    </tr>\n",
       "    <tr>\n",
       "      <td>331</td>\n",
       "      <td>Yahoo! The 360</td>\n",
       "      <td>https://www.allsides.com/news-source/yahoo-360...</td>\n",
       "      <td>allsides</td>\n",
       "      <td>71</td>\n",
       "      <td>69</td>\n",
       "      <td>1.028986</td>\n",
       "      <td>somewhat agree</td>\n",
       "    </tr>\n",
       "  </tbody>\n",
       "</table>\n",
       "</div>"
      ],
      "text/plain": [
       "                       name  \\\n",
       "2              Abridge News   \n",
       "5                  AllSides   \n",
       "6        AllSides Community   \n",
       "22            Better Angels   \n",
       "61          Counterpointing   \n",
       "138    Listen First Project   \n",
       "152            Mismatch.org   \n",
       "230              StoryCorps   \n",
       "232  Suspend Belief Podcast   \n",
       "258           The Flip Side   \n",
       "331          Yahoo! The 360   \n",
       "\n",
       "                                                url_as   bias_as  agree_as  \\\n",
       "2    https://www.allsides.com/news-source/abridge-n...  allsides       159   \n",
       "5      https://www.allsides.com/news-source/allsides-0  allsides      3534   \n",
       "6    https://www.allsides.com/news-source/allsides-...  allsides      2287   \n",
       "22   https://www.allsides.com/news-source/better-an...  allsides        62   \n",
       "61   https://www.allsides.com/news-source/counterpo...  allsides       371   \n",
       "138  https://www.allsides.com/news-source/listen-fi...  allsides       132   \n",
       "152  https://www.allsides.com/news-source/mismatcho...  allsides        86   \n",
       "230  https://www.allsides.com/news-source/storycorp...  allsides        64   \n",
       "232  https://www.allsides.com/news-source/suspend-b...  allsides       148   \n",
       "258  https://www.allsides.com/news-source/flip-side...  allsides       306   \n",
       "331  https://www.allsides.com/news-source/yahoo-360...  allsides        71   \n",
       "\n",
       "     disagree_as  agree_ratio_as      agree_desc_as  \n",
       "2             98        1.622449              agree  \n",
       "5           1423        2.483486     strongly agree  \n",
       "6           1373        1.665696              agree  \n",
       "22            55        1.127273     somewhat agree  \n",
       "61           348        1.066092     somewhat agree  \n",
       "138          105        1.257143     somewhat agree  \n",
       "152           92        0.934783  somewhat disagree  \n",
       "230           57        1.122807     somewhat agree  \n",
       "232          176        0.840909  somewhat disagree  \n",
       "258          241        1.269710     somewhat agree  \n",
       "331           69        1.028986     somewhat agree  "
      ]
     },
     "execution_count": 11,
     "metadata": {},
     "output_type": "execute_result"
    }
   ],
   "source": [
    "df_allsides_raw[df_allsides_raw['bias_as'] == 'allsides']"
   ]
  },
  {
   "cell_type": "markdown",
   "metadata": {},
   "source": [
    "#### allsides = mixed news sources, news aggregators\n",
    "\n",
    "From AllSides: \"When does AllSides give a source a \"Mixed\" media bias rating?\n",
    "If the source has a system for aggregating content that is open and transparently designed to show multiple perspectives and the content comes from sources that are left, center and right, we assign a Mixed bias rating.\"\n",
    "https://www.allsides.com/media-bias/allsides"
   ]
  },
  {
   "cell_type": "markdown",
   "metadata": {},
   "source": [
    "#### Lets drop the \"allsides\" category"
   ]
  },
  {
   "cell_type": "code",
   "execution_count": 12,
   "metadata": {},
   "outputs": [
    {
     "data": {
      "text/plain": [
       "(322, 7)"
      ]
     },
     "execution_count": 12,
     "metadata": {},
     "output_type": "execute_result"
    }
   ],
   "source": [
    "df_allsides = df_allsides_raw[(df_allsides_raw['bias_as'] != 'allsides')].reset_index(drop=True)\n",
    "df_allsides.shape"
   ]
  },
  {
   "cell_type": "markdown",
   "metadata": {},
   "source": [
    "## 1.3 Breakdown of Political Bias Ratings\n",
    "\n",
    "#### Lets look at the breakdown of ONLY the political leanings we are interested in:"
   ]
  },
  {
   "cell_type": "code",
   "execution_count": 13,
   "metadata": {},
   "outputs": [
    {
     "name": "stdout",
     "output_type": "stream",
     "text": [
      "Total Sources: 322\n",
      "\n",
      "Category Count: \n",
      "center          112\n",
      "left-center      77\n",
      "left             51\n",
      "right            46\n",
      "right-center     36\n",
      "Name: bias_as, dtype: int64 \n",
      "\n",
      "Category Percentage Breakdown: \n",
      "center          34.782609\n",
      "left-center     23.913043\n",
      "left            15.838509\n",
      "right           14.285714\n",
      "right-center    11.180124\n",
      "Name: bias_as, dtype: float64\n"
     ]
    }
   ],
   "source": [
    "print_stats(df_allsides['bias_as'])"
   ]
  },
  {
   "cell_type": "code",
   "execution_count": 14,
   "metadata": {},
   "outputs": [
    {
     "data": {
      "image/png": "[encoded data removed]",
      "text/plain": [
       "<Figure size 432x288 with 1 Axes>"
      ]
     },
     "metadata": {
      "needs_background": "light"
     },
     "output_type": "display_data"
    }
   ],
   "source": [
    "df_allsides['bias_as'].value_counts().reindex(BIAS_LIST).plot(kind='bar', color=color_RdBu, rot=45);\n",
    "plt.title(\"AllSides: Political Leanings - Breakdown\", fontsize=15)\n",
    "plt.savefig(os.path.join(RESULTS_DIR, 'allsides_breakdown.png'), dpi=300, bbox_inches = \"tight\")"
   ]
  },
  {
   "cell_type": "markdown",
   "metadata": {},
   "source": [
    "#### Overall it seems center focused, with a slightly higher number of left media sources than right. IMO this is seems normal - I think the news media generally skews \"left\", i.e. lot more left leaning sources with fewer but more \"vocal\" right sources - should try to find a source for this to help justify our dataset."
   ]
  },
  {
   "cell_type": "markdown",
   "metadata": {},
   "source": [
    "## 1.4 Which News Sources Have the Most and Least Agreement\n",
    "\n",
    "**Determined by public ratings - Users can indicate whether or not they agree with AllSides ratings, which allsites then uses to classify news sources as follows: **\n",
    "\n",
    "<img src=\"images/agreement.png\" alt=\"Drawing\" style=\"width: 300px;\"/>"
   ]
  },
  {
   "cell_type": "markdown",
   "metadata": {},
   "source": [
    "#### a) Breakdown of agreement"
   ]
  },
  {
   "cell_type": "code",
   "execution_count": 15,
   "metadata": {},
   "outputs": [
    {
     "data": {
      "image/png": "[encoded data removed]",
      "text/plain": [
       "<Figure size 432x288 with 1 Axes>"
      ]
     },
     "metadata": {
      "needs_background": "light"
     },
     "output_type": "display_data"
    }
   ],
   "source": [
    "df_allsides['agree_desc_as'].value_counts(normalize=True).plot(kind='bar', color=colors, rot=90);\n",
    "plt.title(\"AllSides: Political Leanings - Breakdown\", fontsize=15)\n",
    "plt.savefig(os.path.join(RESULTS_DIR, 'allsides_agreement_breakdown.png'), dpi=300, bbox_inches = \"tight\")"
   ]
  },
  {
   "cell_type": "markdown",
   "metadata": {},
   "source": [
    "#### b) Which news sources have most disagreement? \n",
    "\n",
    "Showing a list of 15"
   ]
  },
  {
   "cell_type": "code",
   "execution_count": 16,
   "metadata": {},
   "outputs": [
    {
     "data": {
      "text/html": [
       "<div>\n",
       "<style scoped>\n",
       "    .dataframe tbody tr th:only-of-type {\n",
       "        vertical-align: middle;\n",
       "    }\n",
       "\n",
       "    .dataframe tbody tr th {\n",
       "        vertical-align: top;\n",
       "    }\n",
       "\n",
       "    .dataframe thead th {\n",
       "        text-align: right;\n",
       "    }\n",
       "</style>\n",
       "<table border=\"1\" class=\"dataframe\">\n",
       "  <thead>\n",
       "    <tr style=\"text-align: right;\">\n",
       "      <th></th>\n",
       "      <th>name</th>\n",
       "      <th>url_as</th>\n",
       "      <th>bias_as</th>\n",
       "      <th>agree_as</th>\n",
       "      <th>disagree_as</th>\n",
       "      <th>agree_desc_as</th>\n",
       "    </tr>\n",
       "  </thead>\n",
       "  <tbody>\n",
       "    <tr>\n",
       "      <td>46</td>\n",
       "      <td>CNBC</td>\n",
       "      <td>https://www.allsides.com/news-source/cnbc</td>\n",
       "      <td>center</td>\n",
       "      <td>1810</td>\n",
       "      <td>4403</td>\n",
       "      <td>strongly disagree</td>\n",
       "    </tr>\n",
       "    <tr>\n",
       "      <td>299</td>\n",
       "      <td>Virginia Mercury</td>\n",
       "      <td>https://www.allsides.com/news-source/virginia-...</td>\n",
       "      <td>center</td>\n",
       "      <td>8</td>\n",
       "      <td>18</td>\n",
       "      <td>strongly disagree</td>\n",
       "    </tr>\n",
       "    <tr>\n",
       "      <td>271</td>\n",
       "      <td>The Republican</td>\n",
       "      <td>https://www.allsides.com/news-source/republican</td>\n",
       "      <td>center</td>\n",
       "      <td>191</td>\n",
       "      <td>426</td>\n",
       "      <td>strongly disagree</td>\n",
       "    </tr>\n",
       "    <tr>\n",
       "      <td>217</td>\n",
       "      <td>Snopes</td>\n",
       "      <td>https://www.allsides.com/news-source/snopes</td>\n",
       "      <td>center</td>\n",
       "      <td>281</td>\n",
       "      <td>582</td>\n",
       "      <td>strongly disagree</td>\n",
       "    </tr>\n",
       "    <tr>\n",
       "      <td>246</td>\n",
       "      <td>The Economist</td>\n",
       "      <td>https://www.allsides.com/news-source/economist</td>\n",
       "      <td>left-center</td>\n",
       "      <td>2254</td>\n",
       "      <td>4304</td>\n",
       "      <td>disagree</td>\n",
       "    </tr>\n",
       "    <tr>\n",
       "      <td>137</td>\n",
       "      <td>MarketWatch</td>\n",
       "      <td>https://www.allsides.com/news-source/marketwat...</td>\n",
       "      <td>right-center</td>\n",
       "      <td>143</td>\n",
       "      <td>264</td>\n",
       "      <td>disagree</td>\n",
       "    </tr>\n",
       "    <tr>\n",
       "      <td>42</td>\n",
       "      <td>Chicago Tribune</td>\n",
       "      <td>https://www.allsides.com/news-source/chicago-t...</td>\n",
       "      <td>center</td>\n",
       "      <td>1878</td>\n",
       "      <td>3353</td>\n",
       "      <td>disagree</td>\n",
       "    </tr>\n",
       "    <tr>\n",
       "      <td>51</td>\n",
       "      <td>Columbia Journalism Review</td>\n",
       "      <td>https://www.allsides.com/news-source/columbia-...</td>\n",
       "      <td>center</td>\n",
       "      <td>167</td>\n",
       "      <td>298</td>\n",
       "      <td>disagree</td>\n",
       "    </tr>\n",
       "    <tr>\n",
       "      <td>264</td>\n",
       "      <td>The Observer (New York)</td>\n",
       "      <td>https://www.allsides.com/news-source/observer</td>\n",
       "      <td>center</td>\n",
       "      <td>210</td>\n",
       "      <td>370</td>\n",
       "      <td>disagree</td>\n",
       "    </tr>\n",
       "    <tr>\n",
       "      <td>237</td>\n",
       "      <td>The Courier-Journal</td>\n",
       "      <td>https://www.allsides.com/news-source/courier-j...</td>\n",
       "      <td>left-center</td>\n",
       "      <td>137</td>\n",
       "      <td>233</td>\n",
       "      <td>disagree</td>\n",
       "    </tr>\n",
       "    <tr>\n",
       "      <td>73</td>\n",
       "      <td>Detroit News</td>\n",
       "      <td>https://www.allsides.com/news-source/detroit-news</td>\n",
       "      <td>center</td>\n",
       "      <td>60</td>\n",
       "      <td>98</td>\n",
       "      <td>disagree</td>\n",
       "    </tr>\n",
       "    <tr>\n",
       "      <td>192</td>\n",
       "      <td>Quillette</td>\n",
       "      <td>https://www.allsides.com/news-source/quillette...</td>\n",
       "      <td>right-center</td>\n",
       "      <td>362</td>\n",
       "      <td>585</td>\n",
       "      <td>disagree</td>\n",
       "    </tr>\n",
       "    <tr>\n",
       "      <td>3</td>\n",
       "      <td>Al Jazeera</td>\n",
       "      <td>https://www.allsides.com/news-source/al-jazeer...</td>\n",
       "      <td>left-center</td>\n",
       "      <td>3986</td>\n",
       "      <td>6440</td>\n",
       "      <td>disagree</td>\n",
       "    </tr>\n",
       "    <tr>\n",
       "      <td>71</td>\n",
       "      <td>Deseret News</td>\n",
       "      <td>https://www.allsides.com/news-source/deseret-news</td>\n",
       "      <td>right-center</td>\n",
       "      <td>1100</td>\n",
       "      <td>1745</td>\n",
       "      <td>disagree</td>\n",
       "    </tr>\n",
       "    <tr>\n",
       "      <td>72</td>\n",
       "      <td>Detroit Free Press</td>\n",
       "      <td>https://www.allsides.com/news-source/detroit-f...</td>\n",
       "      <td>left-center</td>\n",
       "      <td>117</td>\n",
       "      <td>184</td>\n",
       "      <td>disagree</td>\n",
       "    </tr>\n",
       "  </tbody>\n",
       "</table>\n",
       "</div>"
      ],
      "text/plain": [
       "                           name  \\\n",
       "46                         CNBC   \n",
       "299            Virginia Mercury   \n",
       "271              The Republican   \n",
       "217                      Snopes   \n",
       "246               The Economist   \n",
       "137                 MarketWatch   \n",
       "42              Chicago Tribune   \n",
       "51   Columbia Journalism Review   \n",
       "264     The Observer (New York)   \n",
       "237         The Courier-Journal   \n",
       "73                 Detroit News   \n",
       "192                   Quillette   \n",
       "3                    Al Jazeera   \n",
       "71                 Deseret News   \n",
       "72           Detroit Free Press   \n",
       "\n",
       "                                                url_as       bias_as  \\\n",
       "46           https://www.allsides.com/news-source/cnbc        center   \n",
       "299  https://www.allsides.com/news-source/virginia-...        center   \n",
       "271    https://www.allsides.com/news-source/republican        center   \n",
       "217        https://www.allsides.com/news-source/snopes        center   \n",
       "246     https://www.allsides.com/news-source/economist   left-center   \n",
       "137  https://www.allsides.com/news-source/marketwat...  right-center   \n",
       "42   https://www.allsides.com/news-source/chicago-t...        center   \n",
       "51   https://www.allsides.com/news-source/columbia-...        center   \n",
       "264      https://www.allsides.com/news-source/observer        center   \n",
       "237  https://www.allsides.com/news-source/courier-j...   left-center   \n",
       "73   https://www.allsides.com/news-source/detroit-news        center   \n",
       "192  https://www.allsides.com/news-source/quillette...  right-center   \n",
       "3    https://www.allsides.com/news-source/al-jazeer...   left-center   \n",
       "71   https://www.allsides.com/news-source/deseret-news  right-center   \n",
       "72   https://www.allsides.com/news-source/detroit-f...   left-center   \n",
       "\n",
       "     agree_as  disagree_as      agree_desc_as  \n",
       "46       1810         4403  strongly disagree  \n",
       "299         8           18  strongly disagree  \n",
       "271       191          426  strongly disagree  \n",
       "217       281          582  strongly disagree  \n",
       "246      2254         4304           disagree  \n",
       "137       143          264           disagree  \n",
       "42       1878         3353           disagree  \n",
       "51        167          298           disagree  \n",
       "264       210          370           disagree  \n",
       "237       137          233           disagree  \n",
       "73         60           98           disagree  \n",
       "192       362          585           disagree  \n",
       "3        3986         6440           disagree  \n",
       "71       1100         1745           disagree  \n",
       "72        117          184           disagree  "
      ]
     },
     "execution_count": 16,
     "metadata": {},
     "output_type": "execute_result"
    }
   ],
   "source": [
    "col_list = ['name','url_as','bias_as','agree_as','disagree_as', 'agree_desc_as']\n",
    "df_allsides.loc[df_allsides.sort_values(by=['agree_ratio_as'], ascending=True)[:15].index, col_list]"
   ]
  },
  {
   "cell_type": "markdown",
   "metadata": {},
   "source": [
    "#### c) Which news sources have most agreement? \n",
    "\n",
    "Showing 15 (not a complete list)"
   ]
  },
  {
   "cell_type": "code",
   "execution_count": 17,
   "metadata": {},
   "outputs": [
    {
     "data": {
      "text/html": [
       "<div>\n",
       "<style scoped>\n",
       "    .dataframe tbody tr th:only-of-type {\n",
       "        vertical-align: middle;\n",
       "    }\n",
       "\n",
       "    .dataframe tbody tr th {\n",
       "        vertical-align: top;\n",
       "    }\n",
       "\n",
       "    .dataframe thead th {\n",
       "        text-align: right;\n",
       "    }\n",
       "</style>\n",
       "<table border=\"1\" class=\"dataframe\">\n",
       "  <thead>\n",
       "    <tr style=\"text-align: right;\">\n",
       "      <th></th>\n",
       "      <th>name</th>\n",
       "      <th>url_as</th>\n",
       "      <th>bias_as</th>\n",
       "      <th>agree_as</th>\n",
       "      <th>disagree_as</th>\n",
       "      <th>agree_desc_as</th>\n",
       "    </tr>\n",
       "  </thead>\n",
       "  <tbody>\n",
       "    <tr>\n",
       "      <td>40</td>\n",
       "      <td>Chicago Defender</td>\n",
       "      <td>https://www.allsides.com/news-source/chicago-d...</td>\n",
       "      <td>left</td>\n",
       "      <td>2</td>\n",
       "      <td>0</td>\n",
       "      <td>absolutely agree</td>\n",
       "    </tr>\n",
       "    <tr>\n",
       "      <td>166</td>\n",
       "      <td>Newtrals</td>\n",
       "      <td>https://www.allsides.com/news-source/newtrals-...</td>\n",
       "      <td>center</td>\n",
       "      <td>2</td>\n",
       "      <td>0</td>\n",
       "      <td>absolutely agree</td>\n",
       "    </tr>\n",
       "    <tr>\n",
       "      <td>189</td>\n",
       "      <td>Psychology Today</td>\n",
       "      <td>https://www.allsides.com/news-source/psycholog...</td>\n",
       "      <td>center</td>\n",
       "      <td>10</td>\n",
       "      <td>1</td>\n",
       "      <td>absolutely agree</td>\n",
       "    </tr>\n",
       "    <tr>\n",
       "      <td>147</td>\n",
       "      <td>Mother Jones</td>\n",
       "      <td>https://www.allsides.com/news-source/mother-jo...</td>\n",
       "      <td>left</td>\n",
       "      <td>7464</td>\n",
       "      <td>1340</td>\n",
       "      <td>absolutely agree</td>\n",
       "    </tr>\n",
       "    <tr>\n",
       "      <td>4</td>\n",
       "      <td>AlterNet</td>\n",
       "      <td>https://www.allsides.com/news-source/alternet-...</td>\n",
       "      <td>left</td>\n",
       "      <td>5137</td>\n",
       "      <td>1191</td>\n",
       "      <td>absolutely agree</td>\n",
       "    </tr>\n",
       "    <tr>\n",
       "      <td>115</td>\n",
       "      <td>InfoWars</td>\n",
       "      <td>https://www.allsides.com/news-source/infowars</td>\n",
       "      <td>right</td>\n",
       "      <td>4332</td>\n",
       "      <td>1012</td>\n",
       "      <td>absolutely agree</td>\n",
       "    </tr>\n",
       "    <tr>\n",
       "      <td>92</td>\n",
       "      <td>Fox News Opinion</td>\n",
       "      <td>https://www.allsides.com/news-source/fox-news-...</td>\n",
       "      <td>right</td>\n",
       "      <td>10233</td>\n",
       "      <td>2419</td>\n",
       "      <td>absolutely agree</td>\n",
       "    </tr>\n",
       "    <tr>\n",
       "      <td>121</td>\n",
       "      <td>Jacobin</td>\n",
       "      <td>https://www.allsides.com/news-source/jacobin-m...</td>\n",
       "      <td>left</td>\n",
       "      <td>594</td>\n",
       "      <td>150</td>\n",
       "      <td>absolutely agree</td>\n",
       "    </tr>\n",
       "    <tr>\n",
       "      <td>49</td>\n",
       "      <td>CNN - Editorial</td>\n",
       "      <td>https://www.allsides.com/news-source/cnn-edito...</td>\n",
       "      <td>left</td>\n",
       "      <td>12311</td>\n",
       "      <td>3335</td>\n",
       "      <td>absolutely agree</td>\n",
       "    </tr>\n",
       "    <tr>\n",
       "      <td>206</td>\n",
       "      <td>RollingStone.com</td>\n",
       "      <td>https://www.allsides.com/news-source/rolling-s...</td>\n",
       "      <td>left</td>\n",
       "      <td>1496</td>\n",
       "      <td>434</td>\n",
       "      <td>absolutely agree</td>\n",
       "    </tr>\n",
       "    <tr>\n",
       "      <td>298</td>\n",
       "      <td>Vice</td>\n",
       "      <td>https://www.allsides.com/news-source/vice-medi...</td>\n",
       "      <td>left</td>\n",
       "      <td>1409</td>\n",
       "      <td>414</td>\n",
       "      <td>absolutely agree</td>\n",
       "    </tr>\n",
       "    <tr>\n",
       "      <td>263</td>\n",
       "      <td>The New Yorker</td>\n",
       "      <td>https://www.allsides.com/news-source/new-yorker</td>\n",
       "      <td>left</td>\n",
       "      <td>3703</td>\n",
       "      <td>1091</td>\n",
       "      <td>absolutely agree</td>\n",
       "    </tr>\n",
       "    <tr>\n",
       "      <td>69</td>\n",
       "      <td>Democracy Now</td>\n",
       "      <td>https://www.allsides.com/news-source/democracy...</td>\n",
       "      <td>left</td>\n",
       "      <td>6920</td>\n",
       "      <td>2093</td>\n",
       "      <td>absolutely agree</td>\n",
       "    </tr>\n",
       "    <tr>\n",
       "      <td>30</td>\n",
       "      <td>C-SPAN</td>\n",
       "      <td>https://www.allsides.com/news-source/c-span</td>\n",
       "      <td>center</td>\n",
       "      <td>2996</td>\n",
       "      <td>929</td>\n",
       "      <td>absolutely agree</td>\n",
       "    </tr>\n",
       "    <tr>\n",
       "      <td>160</td>\n",
       "      <td>New York Times - Opinion</td>\n",
       "      <td>https://www.allsides.com/news-source/new-york-...</td>\n",
       "      <td>left</td>\n",
       "      <td>4599</td>\n",
       "      <td>1452</td>\n",
       "      <td>absolutely agree</td>\n",
       "    </tr>\n",
       "  </tbody>\n",
       "</table>\n",
       "</div>"
      ],
      "text/plain": [
       "                         name  \\\n",
       "40           Chicago Defender   \n",
       "166                  Newtrals   \n",
       "189          Psychology Today   \n",
       "147              Mother Jones   \n",
       "4                    AlterNet   \n",
       "115                  InfoWars   \n",
       "92           Fox News Opinion   \n",
       "121                   Jacobin   \n",
       "49            CNN - Editorial   \n",
       "206          RollingStone.com   \n",
       "298                      Vice   \n",
       "263            The New Yorker   \n",
       "69              Democracy Now   \n",
       "30                     C-SPAN   \n",
       "160  New York Times - Opinion   \n",
       "\n",
       "                                                url_as bias_as  agree_as  \\\n",
       "40   https://www.allsides.com/news-source/chicago-d...    left         2   \n",
       "166  https://www.allsides.com/news-source/newtrals-...  center         2   \n",
       "189  https://www.allsides.com/news-source/psycholog...  center        10   \n",
       "147  https://www.allsides.com/news-source/mother-jo...    left      7464   \n",
       "4    https://www.allsides.com/news-source/alternet-...    left      5137   \n",
       "115      https://www.allsides.com/news-source/infowars   right      4332   \n",
       "92   https://www.allsides.com/news-source/fox-news-...   right     10233   \n",
       "121  https://www.allsides.com/news-source/jacobin-m...    left       594   \n",
       "49   https://www.allsides.com/news-source/cnn-edito...    left     12311   \n",
       "206  https://www.allsides.com/news-source/rolling-s...    left      1496   \n",
       "298  https://www.allsides.com/news-source/vice-medi...    left      1409   \n",
       "263    https://www.allsides.com/news-source/new-yorker    left      3703   \n",
       "69   https://www.allsides.com/news-source/democracy...    left      6920   \n",
       "30         https://www.allsides.com/news-source/c-span  center      2996   \n",
       "160  https://www.allsides.com/news-source/new-york-...    left      4599   \n",
       "\n",
       "     disagree_as     agree_desc_as  \n",
       "40             0  absolutely agree  \n",
       "166            0  absolutely agree  \n",
       "189            1  absolutely agree  \n",
       "147         1340  absolutely agree  \n",
       "4           1191  absolutely agree  \n",
       "115         1012  absolutely agree  \n",
       "92          2419  absolutely agree  \n",
       "121          150  absolutely agree  \n",
       "49          3335  absolutely agree  \n",
       "206          434  absolutely agree  \n",
       "298          414  absolutely agree  \n",
       "263         1091  absolutely agree  \n",
       "69          2093  absolutely agree  \n",
       "30           929  absolutely agree  \n",
       "160         1452  absolutely agree  "
      ]
     },
     "execution_count": 17,
     "metadata": {},
     "output_type": "execute_result"
    }
   ],
   "source": [
    "df_allsides.loc[df_allsides.sort_values(by=['agree_ratio_as'], ascending=False)[:15].index, col_list]"
   ]
  },
  {
   "cell_type": "markdown",
   "metadata": {},
   "source": [
    "------------------\n",
    "\n"
   ]
  },
  {
   "cell_type": "markdown",
   "metadata": {},
   "source": [
    "# 2. Media Bias / Fact Check Data\n",
    "------------------\n",
    "\n",
    "#### This section is divided into the following segments:\n",
    "1. [Loading Data](#2.1-Load-Data)\n",
    "2. [Breakdown of \"Reporting Type\"](#2.2-Breakdown-of-\"Reporting-Type\")\n",
    "3. [Breakdown of Bias Ratings - First Look](#2.3-Breakdown-of-Bias-Ratings---First-Look)\n",
    "4. [Breakdown of Political Bias Ratings](#2.4-Breakdown-of-Political-Bias-Ratings)\n",
    "5. [Country Related Analysis](#2.5-Country-Related-Analysis)\n",
    "6. [AllSides vs. MBFC: Comparing Ratio of Political Leanings (Raw)](#2.6-AllSides-vs.-MBFC:-Comparing-Ratio-of-Political-Leanings---Raw)\n",
    "\n",
    "\n",
    "* #### While MBFC supposedly rates bias on a [0-10 scale](https://mediabiasfactcheck.com/methodology/), this data does <font color=red>NOT</font> seem to be available on their site. They have an image for many sources, but it's not possible to discern the number rating from the image (visually difficult and image names are also not consistent so can't scrape those). \n",
    "* #### They  list the \"aggregate\" view such as \"Right\" or \"Right-Center\". They also give each source a “Factual Reporting” rating. See an example of CNN below:\n",
    "\n",
    "<img src=\"images/MBFC_2.png\" alt=\"Drawing\" style=\"width: 650px;\"/>\n",
    "\n",
    "* #### MBFC also lacks a clean / consistent interface for systematically looking at their data. As such, the data was scraped using their [filtered search](https://mediabiasfactcheck.com/filtered-search/) option. There is a note on their site - \"Note: this is a work in progress, what you see displayed here may be slightly different than the actual review. 99% should be accurate as we work through this process of syncing them.\"\n",
    "\n",
    "<img src=\"images/MBFC_1.png\" alt=\"Drawing\" style=\"width: 700px;\"/>\n",
    "\n",
    "* #### MBFC does not distinguish between types of Media Sources (unlike AllSides), but it does provide a \"factual reporting\" rating."
   ]
  },
  {
   "cell_type": "markdown",
   "metadata": {},
   "source": [
    "## 2.1 Load Data"
   ]
  },
  {
   "cell_type": "code",
   "execution_count": 18,
   "metadata": {},
   "outputs": [
    {
     "data": {
      "text/plain": [
       "(3058, 6)"
      ]
     },
     "execution_count": 18,
     "metadata": {},
     "output_type": "execute_result"
    }
   ],
   "source": [
    "df_mbfc_raw = pd.read_csv(MBFC_DATA)\n",
    "df_mbfc_raw.shape"
   ]
  },
  {
   "cell_type": "code",
   "execution_count": 19,
   "metadata": {},
   "outputs": [
    {
     "data": {
      "text/html": [
       "<div>\n",
       "<style scoped>\n",
       "    .dataframe tbody tr th:only-of-type {\n",
       "        vertical-align: middle;\n",
       "    }\n",
       "\n",
       "    .dataframe tbody tr th {\n",
       "        vertical-align: top;\n",
       "    }\n",
       "\n",
       "    .dataframe thead th {\n",
       "        text-align: right;\n",
       "    }\n",
       "</style>\n",
       "<table border=\"1\" class=\"dataframe\">\n",
       "  <thead>\n",
       "    <tr style=\"text-align: right;\">\n",
       "      <th></th>\n",
       "      <th>name</th>\n",
       "      <th>news_link</th>\n",
       "      <th>bias_mbfc</th>\n",
       "      <th>reporting_mbfc</th>\n",
       "      <th>country_mbfc</th>\n",
       "      <th>references_mbfc</th>\n",
       "    </tr>\n",
       "  </thead>\n",
       "  <tbody>\n",
       "    <tr>\n",
       "      <td>0</td>\n",
       "      <td>100% Fed up</td>\n",
       "      <td>https://mediabiasfactcheck.com/100-percent-fed...</td>\n",
       "      <td>Questionable Sources</td>\n",
       "      <td>Low</td>\n",
       "      <td>United States</td>\n",
       "      <td>97,906</td>\n",
       "    </tr>\n",
       "    <tr>\n",
       "      <td>1</td>\n",
       "      <td>10News.one</td>\n",
       "      <td>https://mediabiasfactcheck.com/10news-one/</td>\n",
       "      <td>Questionable Sources</td>\n",
       "      <td>Low</td>\n",
       "      <td>United States</td>\n",
       "      <td>2,011</td>\n",
       "    </tr>\n",
       "    <tr>\n",
       "      <td>2</td>\n",
       "      <td>24 News</td>\n",
       "      <td>https://mediabiasfactcheck.com/24-news/</td>\n",
       "      <td>Questionable Sources</td>\n",
       "      <td>Low</td>\n",
       "      <td>United States</td>\n",
       "      <td>527</td>\n",
       "    </tr>\n",
       "    <tr>\n",
       "      <td>3</td>\n",
       "      <td>247 News Media</td>\n",
       "      <td>https://mediabiasfactcheck.com/247-news-media/</td>\n",
       "      <td>Questionable Sources</td>\n",
       "      <td>Very Low</td>\n",
       "      <td>Macedonia</td>\n",
       "      <td>213</td>\n",
       "    </tr>\n",
       "    <tr>\n",
       "      <td>4</td>\n",
       "      <td>2nd Amendment Daily News</td>\n",
       "      <td>https://mediabiasfactcheck.com/2nd-amendment-d...</td>\n",
       "      <td>Questionable Sources</td>\n",
       "      <td>Low</td>\n",
       "      <td>United States</td>\n",
       "      <td>0</td>\n",
       "    </tr>\n",
       "  </tbody>\n",
       "</table>\n",
       "</div>"
      ],
      "text/plain": [
       "                       name  \\\n",
       "0               100% Fed up   \n",
       "1                10News.one   \n",
       "2                   24 News   \n",
       "3            247 News Media   \n",
       "4  2nd Amendment Daily News   \n",
       "\n",
       "                                           news_link             bias_mbfc  \\\n",
       "0  https://mediabiasfactcheck.com/100-percent-fed...  Questionable Sources   \n",
       "1         https://mediabiasfactcheck.com/10news-one/  Questionable Sources   \n",
       "2            https://mediabiasfactcheck.com/24-news/  Questionable Sources   \n",
       "3     https://mediabiasfactcheck.com/247-news-media/  Questionable Sources   \n",
       "4  https://mediabiasfactcheck.com/2nd-amendment-d...  Questionable Sources   \n",
       "\n",
       "  reporting_mbfc   country_mbfc references_mbfc  \n",
       "0            Low  United States          97,906  \n",
       "1            Low  United States           2,011  \n",
       "2            Low  United States             527  \n",
       "3       Very Low      Macedonia             213  \n",
       "4            Low  United States               0  "
      ]
     },
     "execution_count": 19,
     "metadata": {},
     "output_type": "execute_result"
    }
   ],
   "source": [
    "df_mbfc_raw.head()"
   ]
  },
  {
   "cell_type": "markdown",
   "metadata": {},
   "source": [
    "#### They have country data available (comapred to AllSides which doesn't). I couldn't find an official defintion of what the \"references\" mean. \n",
    "\n",
    "#### Note: ended up with a bunch of duplicates because of the filtered-search option. Need to get rid of them."
   ]
  },
  {
   "cell_type": "code",
   "execution_count": 20,
   "metadata": {},
   "outputs": [
    {
     "data": {
      "text/html": [
       "<div>\n",
       "<style scoped>\n",
       "    .dataframe tbody tr th:only-of-type {\n",
       "        vertical-align: middle;\n",
       "    }\n",
       "\n",
       "    .dataframe tbody tr th {\n",
       "        vertical-align: top;\n",
       "    }\n",
       "\n",
       "    .dataframe thead th {\n",
       "        text-align: right;\n",
       "    }\n",
       "</style>\n",
       "<table border=\"1\" class=\"dataframe\">\n",
       "  <thead>\n",
       "    <tr style=\"text-align: right;\">\n",
       "      <th></th>\n",
       "      <th>name</th>\n",
       "      <th>news_link</th>\n",
       "      <th>bias_mbfc</th>\n",
       "      <th>reporting_mbfc</th>\n",
       "      <th>country_mbfc</th>\n",
       "      <th>references_mbfc</th>\n",
       "    </tr>\n",
       "  </thead>\n",
       "  <tbody>\n",
       "    <tr>\n",
       "      <td>520</td>\n",
       "      <td>100% Fed up</td>\n",
       "      <td>https://mediabiasfactcheck.com/100-percent-fed...</td>\n",
       "      <td>Questionable Sources</td>\n",
       "      <td>Low</td>\n",
       "      <td>United States</td>\n",
       "      <td>97,906</td>\n",
       "    </tr>\n",
       "    <tr>\n",
       "      <td>521</td>\n",
       "      <td>10News.one</td>\n",
       "      <td>https://mediabiasfactcheck.com/10news-one/</td>\n",
       "      <td>Questionable Sources</td>\n",
       "      <td>Low</td>\n",
       "      <td>United States</td>\n",
       "      <td>2,011</td>\n",
       "    </tr>\n",
       "    <tr>\n",
       "      <td>522</td>\n",
       "      <td>24 News</td>\n",
       "      <td>https://mediabiasfactcheck.com/24-news/</td>\n",
       "      <td>Questionable Sources</td>\n",
       "      <td>Low</td>\n",
       "      <td>United States</td>\n",
       "      <td>527</td>\n",
       "    </tr>\n",
       "    <tr>\n",
       "      <td>523</td>\n",
       "      <td>2nd Amendment Daily News</td>\n",
       "      <td>https://mediabiasfactcheck.com/2nd-amendment-d...</td>\n",
       "      <td>Questionable Sources</td>\n",
       "      <td>Low</td>\n",
       "      <td>United States</td>\n",
       "      <td>0</td>\n",
       "    </tr>\n",
       "    <tr>\n",
       "      <td>524</td>\n",
       "      <td>3CCorp.net</td>\n",
       "      <td>https://mediabiasfactcheck.com/3ccorp-net/</td>\n",
       "      <td>Questionable Sources</td>\n",
       "      <td>Low</td>\n",
       "      <td>United States</td>\n",
       "      <td>0</td>\n",
       "    </tr>\n",
       "  </tbody>\n",
       "</table>\n",
       "</div>"
      ],
      "text/plain": [
       "                         name  \\\n",
       "520               100% Fed up   \n",
       "521                10News.one   \n",
       "522                   24 News   \n",
       "523  2nd Amendment Daily News   \n",
       "524                3CCorp.net   \n",
       "\n",
       "                                             news_link             bias_mbfc  \\\n",
       "520  https://mediabiasfactcheck.com/100-percent-fed...  Questionable Sources   \n",
       "521         https://mediabiasfactcheck.com/10news-one/  Questionable Sources   \n",
       "522            https://mediabiasfactcheck.com/24-news/  Questionable Sources   \n",
       "523  https://mediabiasfactcheck.com/2nd-amendment-d...  Questionable Sources   \n",
       "524         https://mediabiasfactcheck.com/3ccorp-net/  Questionable Sources   \n",
       "\n",
       "    reporting_mbfc   country_mbfc references_mbfc  \n",
       "520            Low  United States          97,906  \n",
       "521            Low  United States           2,011  \n",
       "522            Low  United States             527  \n",
       "523            Low  United States               0  \n",
       "524            Low  United States               0  "
      ]
     },
     "execution_count": 20,
     "metadata": {},
     "output_type": "execute_result"
    }
   ],
   "source": [
    "df_mbfc_raw[df_mbfc_raw.duplicated(subset=None, keep='first')].head()"
   ]
  },
  {
   "cell_type": "code",
   "execution_count": 21,
   "metadata": {},
   "outputs": [
    {
     "data": {
      "text/plain": [
       "(2631, 6)"
      ]
     },
     "execution_count": 21,
     "metadata": {},
     "output_type": "execute_result"
    }
   ],
   "source": [
    "df_mbfc_raw = df_mbfc_raw.drop_duplicates()\n",
    "df_mbfc_raw.shape"
   ]
  },
  {
   "cell_type": "code",
   "execution_count": 22,
   "metadata": {},
   "outputs": [
    {
     "name": "stdout",
     "output_type": "stream",
     "text": [
      "There are 2631 rated sources in AllSides\n"
     ]
    }
   ],
   "source": [
    "num_sources_mbfc = df_mbfc_raw.shape[0]\n",
    "print(\"There are {} rated sources in AllSides\".format(num_sources_mbfc))"
   ]
  },
  {
   "cell_type": "markdown",
   "metadata": {},
   "source": [
    "## 2.2 Breakdown of \"Reporting Type\"\n",
    "\n",
    "####  Lets take a look at the breakdown of the \"factual reporting\" category:"
   ]
  },
  {
   "cell_type": "code",
   "execution_count": 23,
   "metadata": {
    "scrolled": true
   },
   "outputs": [
    {
     "name": "stdout",
     "output_type": "stream",
     "text": [
      "Total Sources: 2631\n",
      "\n",
      "Category Count: \n",
      "High              1203\n",
      "Mixed              609\n",
      "Low                491\n",
      "Very High          133\n",
      "Mostly Factual     102\n",
      "Very Low            92\n",
      "Name: reporting_mbfc, dtype: int64 \n",
      "\n",
      "Category Percentage Breakdown: \n",
      "High              45.741445\n",
      "Mixed             23.155894\n",
      "Low               18.669202\n",
      "Very High          5.057034\n",
      "Mostly Factual     3.878327\n",
      "Very Low           3.498099\n",
      "Name: reporting_mbfc, dtype: float64\n"
     ]
    }
   ],
   "source": [
    "print_stats(df_mbfc_raw['reporting_mbfc'])"
   ]
  },
  {
   "cell_type": "code",
   "execution_count": 24,
   "metadata": {
    "scrolled": true
   },
   "outputs": [
    {
     "data": {
      "image/png": "[encoded data removed]",
      "text/plain": [
       "<Figure size 432x288 with 1 Axes>"
      ]
     },
     "metadata": {
      "needs_background": "light"
     },
     "output_type": "display_data"
    }
   ],
   "source": [
    "df_mbfc_raw['reporting_mbfc'].value_counts().plot(kind='bar', color=colors, rot=45);\n",
    "plt.title(\"MBFC: Breakdown of Reporting\", fontsize=15)\n",
    "plt.savefig(os.path.join(RESULTS_DIR, 'mbfc_breakdown_reporting_raw.png'), dpi=300, bbox_inches = \"tight\")"
   ]
  },
  {
   "cell_type": "markdown",
   "metadata": {},
   "source": [
    "## 2.3 Breakdown of Bias Ratings - First Look\n",
    "\n",
    "#### Lets look at the breakdown of the \"bias\" category:"
   ]
  },
  {
   "cell_type": "code",
   "execution_count": 25,
   "metadata": {},
   "outputs": [
    {
     "name": "stdout",
     "output_type": "stream",
     "text": [
      "Total Sources: 2631\n",
      "\n",
      "Category Count: \n",
      "Questionable Sources        509\n",
      "Left-Center                 496\n",
      "Least Biased                391\n",
      "Left                        321\n",
      "Conspiracy-Pseudoscience    286\n",
      "Right                       269\n",
      "Right-Center                228\n",
      "Pro-Science                 131\n",
      "Name: bias_mbfc, dtype: int64 \n",
      "\n",
      "Category Percentage Breakdown: \n",
      "Questionable Sources        19.346256\n",
      "Left-Center                 18.852147\n",
      "Least Biased                14.861269\n",
      "Left                        12.200684\n",
      "Conspiracy-Pseudoscience    10.870391\n",
      "Right                       10.224249\n",
      "Right-Center                 8.665906\n",
      "Pro-Science                  4.979095\n",
      "Name: bias_mbfc, dtype: float64\n"
     ]
    }
   ],
   "source": [
    "print_stats(df_mbfc_raw['bias_mbfc'])"
   ]
  },
  {
   "cell_type": "code",
   "execution_count": 26,
   "metadata": {},
   "outputs": [
    {
     "data": {
      "image/png": "[encoded data removed]",
      "text/plain": [
       "<Figure size 432x288 with 1 Axes>"
      ]
     },
     "metadata": {
      "needs_background": "light"
     },
     "output_type": "display_data"
    }
   ],
   "source": [
    "df_mbfc_raw['bias_mbfc'].value_counts().plot(kind='bar', color=colors);\n",
    "plt.title(\"MBFC: Breakdown of Bias - Raw\", fontsize=15)\n",
    "# plt.tight_layout()\n",
    "plt.xticks(rotation=90)\n",
    "plt.savefig(os.path.join(RESULTS_DIR, 'mbfc_breakdown_bias_raw.png'), dpi=300, bbox_inches = \"tight\")"
   ]
  },
  {
   "cell_type": "markdown",
   "metadata": {},
   "source": [
    "#### MBFC appears to have a number of \"bias\" categories in addition to the standard political leanings, and questionable sources seems to be quite popular. Note: Least Biased = Center\n",
    "\n",
    "\n",
    "\n",
    "#### Lets drop the \"Conspiracy-Pseudoscience \" , \"Pro-Science\" and \"Questionable Sources\" biases and analyse further. \n"
   ]
  },
  {
   "cell_type": "code",
   "execution_count": 27,
   "metadata": {
    "collapsed": true
   },
   "outputs": [],
   "source": [
    "not_political_bias = ['Questionable Sources', 'Conspiracy-Pseudoscience', 'Pro-Science']\n",
    "df_mbfc = df_mbfc_raw[~df_mbfc_raw.bias_mbfc.isin(not_political_bias)].reset_index(drop=True)"
   ]
  },
  {
   "cell_type": "markdown",
   "metadata": {},
   "source": [
    "## 2.4 Breakdown of Political Bias Ratings\n",
    "\n",
    "#### Lets look at the breakdown of the ONLY the political leanings we are interested in:"
   ]
  },
  {
   "cell_type": "code",
   "execution_count": 28,
   "metadata": {},
   "outputs": [
    {
     "name": "stdout",
     "output_type": "stream",
     "text": [
      "Total Sources: 1705\n",
      "\n",
      "Category Count: \n",
      "Left-Center     496\n",
      "Least Biased    391\n",
      "Left            321\n",
      "Right           269\n",
      "Right-Center    228\n",
      "Name: bias_mbfc, dtype: int64 \n",
      "\n",
      "Category Percentage Breakdown: \n",
      "Left-Center     29.090909\n",
      "Least Biased    22.932551\n",
      "Left            18.826979\n",
      "Right           15.777126\n",
      "Right-Center    13.372434\n",
      "Name: bias_mbfc, dtype: float64\n"
     ]
    }
   ],
   "source": [
    "print_stats(df_mbfc['bias_mbfc'])"
   ]
  },
  {
   "cell_type": "code",
   "execution_count": 29,
   "metadata": {
    "scrolled": true
   },
   "outputs": [
    {
     "data": {
      "image/png": "[encoded data removed]",
      "text/plain": [
       "<Figure size 432x288 with 1 Axes>"
      ]
     },
     "metadata": {
      "needs_background": "light"
     },
     "output_type": "display_data"
    }
   ],
   "source": [
    "blist_mfbc = ['Left', 'Left-Center', 'Least Biased', 'Right-Center', 'Right']\n",
    "df_mbfc['bias_mbfc'] = df_mbfc['bias_mbfc'].replace(dict(zip(blist_mfbc, BIAS_LIST)))\n",
    "df_mbfc['bias_mbfc'].value_counts().reindex(BIAS_LIST).plot(kind='bar', color=color_RdBu, rot=45);\n",
    "plt.title(\"MBFC: Breakdown of Political Leanings of Interest\", fontsize=15)\n",
    "plt.savefig(os.path.join(RESULTS_DIR, 'mbfc_breakdown_political_allcountries.png'), dpi=300, bbox_inches = \"tight\")"
   ]
  },
  {
   "cell_type": "markdown",
   "metadata": {},
   "source": [
    "#### This is somewhat different compared to allsides - much more left-center than center. But note this dataset contains news sources from many different countries. Lets look at that further."
   ]
  },
  {
   "cell_type": "markdown",
   "metadata": {},
   "source": [
    "## 2.5 Country-Related Analysis\n",
    "\n",
    "#### Lets look at the top-10 breakdown of the countries"
   ]
  },
  {
   "cell_type": "code",
   "execution_count": 30,
   "metadata": {},
   "outputs": [
    {
     "name": "stdout",
     "output_type": "stream",
     "text": [
      "Total Sources: 1705\n",
      "\n",
      "Category Count: \n",
      "United States                1207\n",
      "United Kingdom                 69\n",
      "Canada                         49\n",
      "Australia                      20\n",
      "India                          18\n",
      "Israel                         13\n",
      "Netherlands                     8\n",
      "Unknown or Invalid Region       8\n",
      "South Africa                    7\n",
      "Japan                           6\n",
      "Name: country_mbfc, dtype: int64 \n",
      "\n",
      "Category Percentage Breakdown: \n",
      "United States                79.986746\n",
      "United Kingdom                4.572565\n",
      "Canada                        3.247184\n",
      "Australia                     1.325381\n",
      "India                         1.192843\n",
      "Israel                        0.861498\n",
      "Netherlands                   0.530152\n",
      "Unknown or Invalid Region     0.530152\n",
      "South Africa                  0.463883\n",
      "Japan                         0.397614\n",
      "Name: country_mbfc, dtype: float64\n"
     ]
    }
   ],
   "source": [
    "print_stats(df_mbfc['country_mbfc'], topk = 10)"
   ]
  },
  {
   "cell_type": "markdown",
   "metadata": {},
   "source": [
    "### Now lets look at the breakdown of bias in US-only sources: "
   ]
  },
  {
   "cell_type": "code",
   "execution_count": 31,
   "metadata": {},
   "outputs": [
    {
     "data": {
      "text/plain": [
       "(1207, 6)"
      ]
     },
     "execution_count": 31,
     "metadata": {},
     "output_type": "execute_result"
    }
   ],
   "source": [
    "df_mbfc_US = df_mbfc[df_mbfc['country_mbfc'] == 'United States'].reset_index(drop=True)\n",
    "df_mbfc_US.shape"
   ]
  },
  {
   "cell_type": "code",
   "execution_count": 32,
   "metadata": {},
   "outputs": [
    {
     "data": {
      "text/html": [
       "<div>\n",
       "<style scoped>\n",
       "    .dataframe tbody tr th:only-of-type {\n",
       "        vertical-align: middle;\n",
       "    }\n",
       "\n",
       "    .dataframe tbody tr th {\n",
       "        vertical-align: top;\n",
       "    }\n",
       "\n",
       "    .dataframe thead th {\n",
       "        text-align: right;\n",
       "    }\n",
       "</style>\n",
       "<table border=\"1\" class=\"dataframe\">\n",
       "  <thead>\n",
       "    <tr style=\"text-align: right;\">\n",
       "      <th></th>\n",
       "      <th>name</th>\n",
       "      <th>news_link</th>\n",
       "      <th>bias_mbfc</th>\n",
       "      <th>reporting_mbfc</th>\n",
       "      <th>country_mbfc</th>\n",
       "      <th>references_mbfc</th>\n",
       "    </tr>\n",
       "  </thead>\n",
       "  <tbody>\n",
       "    <tr>\n",
       "      <td>0</td>\n",
       "      <td>Greenville Gazette</td>\n",
       "      <td>https://mediabiasfactcheck.com/greenville-gaze...</td>\n",
       "      <td>left</td>\n",
       "      <td>Low</td>\n",
       "      <td>United States</td>\n",
       "      <td>9,908</td>\n",
       "    </tr>\n",
       "    <tr>\n",
       "      <td>1</td>\n",
       "      <td>2ndVote</td>\n",
       "      <td>https://mediabiasfactcheck.com/2ndvote/</td>\n",
       "      <td>right</td>\n",
       "      <td>Mixed</td>\n",
       "      <td>United States</td>\n",
       "      <td>708</td>\n",
       "    </tr>\n",
       "    <tr>\n",
       "      <td>2</td>\n",
       "      <td>Accuracy in Academia (AIA)</td>\n",
       "      <td>https://mediabiasfactcheck.com/accuracy-in-aca...</td>\n",
       "      <td>right</td>\n",
       "      <td>Mixed</td>\n",
       "      <td>United States</td>\n",
       "      <td>183,973</td>\n",
       "    </tr>\n",
       "    <tr>\n",
       "      <td>3</td>\n",
       "      <td>Accuracy in Media</td>\n",
       "      <td>https://mediabiasfactcheck.com/accuracy-in-med...</td>\n",
       "      <td>right</td>\n",
       "      <td>Mixed</td>\n",
       "      <td>United States</td>\n",
       "      <td>521,556</td>\n",
       "    </tr>\n",
       "    <tr>\n",
       "      <td>4</td>\n",
       "      <td>Acting Man</td>\n",
       "      <td>https://mediabiasfactcheck.com/acting-man/</td>\n",
       "      <td>right</td>\n",
       "      <td>Mixed</td>\n",
       "      <td>United States</td>\n",
       "      <td>362,398</td>\n",
       "    </tr>\n",
       "  </tbody>\n",
       "</table>\n",
       "</div>"
      ],
      "text/plain": [
       "                         name  \\\n",
       "0          Greenville Gazette   \n",
       "1                     2ndVote   \n",
       "2  Accuracy in Academia (AIA)   \n",
       "3           Accuracy in Media   \n",
       "4                  Acting Man   \n",
       "\n",
       "                                           news_link bias_mbfc reporting_mbfc  \\\n",
       "0  https://mediabiasfactcheck.com/greenville-gaze...      left            Low   \n",
       "1            https://mediabiasfactcheck.com/2ndvote/     right          Mixed   \n",
       "2  https://mediabiasfactcheck.com/accuracy-in-aca...     right          Mixed   \n",
       "3  https://mediabiasfactcheck.com/accuracy-in-med...     right          Mixed   \n",
       "4         https://mediabiasfactcheck.com/acting-man/     right          Mixed   \n",
       "\n",
       "    country_mbfc references_mbfc  \n",
       "0  United States           9,908  \n",
       "1  United States             708  \n",
       "2  United States         183,973  \n",
       "3  United States         521,556  \n",
       "4  United States         362,398  "
      ]
     },
     "execution_count": 32,
     "metadata": {},
     "output_type": "execute_result"
    }
   ],
   "source": [
    "df_mbfc_US.head()"
   ]
  },
  {
   "cell_type": "markdown",
   "metadata": {},
   "source": [
    "#### Lets look at the breakdown of political leanings only in the US:"
   ]
  },
  {
   "cell_type": "code",
   "execution_count": 33,
   "metadata": {},
   "outputs": [
    {
     "name": "stdout",
     "output_type": "stream",
     "text": [
      "Total Sources: 1207\n",
      "\n",
      "Category Count: \n",
      "left-center     355\n",
      "center          266\n",
      "left            236\n",
      "right           204\n",
      "right-center    146\n",
      "Name: bias_mbfc, dtype: int64 \n",
      "\n",
      "Category Percentage Breakdown: \n",
      "left-center     29.411765\n",
      "center          22.038111\n",
      "left            19.552610\n",
      "right           16.901408\n",
      "right-center    12.096106\n",
      "Name: bias_mbfc, dtype: float64\n"
     ]
    }
   ],
   "source": [
    "print_stats(df_mbfc_US['bias_mbfc'])"
   ]
  },
  {
   "cell_type": "code",
   "execution_count": 34,
   "metadata": {
    "scrolled": true
   },
   "outputs": [
    {
     "data": {
      "image/png": "[encoded data removed]",
      "text/plain": [
       "<Figure size 432x288 with 1 Axes>"
      ]
     },
     "metadata": {
      "needs_background": "light"
     },
     "output_type": "display_data"
    }
   ],
   "source": [
    "df_mbfc_US['bias_mbfc'].value_counts().reindex(BIAS_LIST).plot(kind='bar', color=color_RdBu, rot=45);\n",
    "plt.title(\"MBFC: Breakdown of Political Leanings of Interest (US Only)\", fontsize=15)\n",
    "plt.savefig(os.path.join(RESULTS_DIR, 'mbfc_breakdown_political_us.png'), dpi=300, bbox_inches = \"tight\")"
   ]
  },
  {
   "cell_type": "markdown",
   "metadata": {},
   "source": [
    "#### Not much difference in the breakdown of U.S. only vs. All Countries"
   ]
  },
  {
   "cell_type": "markdown",
   "metadata": {},
   "source": [
    "## 2.6 AllSides vs. MBFC: Comparing Ratio of Political Leanings - Raw"
   ]
  },
  {
   "cell_type": "code",
   "execution_count": 35,
   "metadata": {},
   "outputs": [
    {
     "data": {
      "image/png": "[encoded data removed]",
      "text/plain": [
       "<Figure size 720x432 with 1 Axes>"
      ]
     },
     "metadata": {},
     "output_type": "display_data"
    },
    {
     "data": {
      "text/plain": [
       "<Figure size 432x288 with 0 Axes>"
      ]
     },
     "metadata": {},
     "output_type": "display_data"
    }
   ],
   "source": [
    "sns.set(style=\"whitegrid\")\n",
    "labels = BIAS_LIST\n",
    "as_means = list(df_allsides['bias_as'].value_counts(normalize=True).reindex(BIAS_LIST))\n",
    "mbfc_means = list(df_mbfc['bias_mbfc'].value_counts(normalize=True).reindex(BIAS_LIST))\n",
    "\n",
    "x = np.arange(len(labels))  # the label locations\n",
    "width = 0.32  # the width of the bars\n",
    "\n",
    "fig, ax = plt.subplots(figsize=(10, 6))\n",
    "rects1 = ax.bar(x - width/2, as_means, width, label='AllSides')\n",
    "rects2 = ax.bar(x + width/2, mbfc_means, width, label='MB/FC')\n",
    "\n",
    "# Add some text for labels, title and custom x-axis tick labels, etc.\n",
    "ax.set_ylabel('Fraction of Sources', fontsize=16)\n",
    "ax.set_title('AllSides vs. MB/FC',  fontsize=18)\n",
    "ax.set_xticks(x)\n",
    "ax.tick_params(axis=\"y\", labelsize=14)\n",
    "ax.set_xticklabels(labels,  fontsize=16)\n",
    "ax.legend(fontsize=14)\n",
    "\n",
    "\n",
    "fig.tight_layout()\n",
    "plt.show()\n",
    "plt.savefig(os.path.join(RESULTS_DIR, 'allsides_vs_mbfc_raw.png'), dpi=300, bbox_inches = \"tight\")"
   ]
  },
  {
   "cell_type": "markdown",
   "metadata": {},
   "source": [
    "----------------------"
   ]
  },
  {
   "cell_type": "markdown",
   "metadata": {},
   "source": [
    "# 3. Comparing the Merged Dataset: AllSides vs MBFC Political Bias Ratings\n",
    "-----\n",
    "\n",
    "### This section is divided into the following segments:\n",
    "1. [Merged Data Stats & Preprocessing](#3.1-Merged-Data-Stats-&-Preprocessing)\n",
    "2. [Compare Ratings](#3.2-Compare-Ratings)\n",
    "\n",
    "### How the Data Was Merged:\n",
    "** In order to compare the the political bias ratings we need to merge the dataset (find which news sources exist in both).** \n",
    "** The dataset was merged by name: **\n",
    "1.  Directly (merge where names are the same)\n",
    "2.  Fuzzy name (using fuzzywuzzy w_ratio) matching followed by manual review (quick scan)\n",
    "3.  Manually checking whether the remaining news sources had any matches \n",
    "\n",
    "** The \"raw\" files contain <font color=red>ALL</font> types of bias ratings (ex: \"questionable sources\", \"conspiracy\" etc) were used for the merge because AllSides has given a CLEAR political bias rating to while MB/FC hasnt for some cases. I deal with these cases individually in section 3.1 d) below**\n",
    "\n"
   ]
  },
  {
   "cell_type": "markdown",
   "metadata": {},
   "source": [
    "## 3.1 Merged Data Stats & Preprocessing\n",
    "\n",
    "### a) Loading Data"
   ]
  },
  {
   "cell_type": "code",
   "execution_count": 36,
   "metadata": {
    "collapsed": true
   },
   "outputs": [],
   "source": [
    "df_alldata = pd.read_csv(os.path.join(EXP_DIR, 'final_merged_allsides_mbfc.csv'))"
   ]
  },
  {
   "cell_type": "code",
   "execution_count": 37,
   "metadata": {
    "collapsed": true
   },
   "outputs": [],
   "source": [
    "clean_allsides = ['name_allsides','url_as','bias_as','agree_as','disagree_as','agree_ratio_as','agree_desc_as']\n",
    "clean_mbfc = ['name_mbfc','news_link','bias_mbfc','reporting_mbfc','country_mbfc','references_mbfc']\n",
    "\n",
    "df_matched = df_alldata[df_alldata['unique_id_as'].notnull() & df_alldata['unique_id_mbfc'].notnull()].reset_index(drop=True)\n",
    "df_allsides_unmatched = df_alldata[df_alldata['unique_id_as'].notnull() & df_alldata['unique_id_mbfc'].isnull()].reset_index(drop=True)\n",
    "df_mbfc_unmatched = df_alldata[df_alldata['unique_id_mbfc'].notnull() & df_alldata['unique_id_as'].isnull()].reset_index(drop=True)\n",
    "\n",
    "df_allsides_unmatched = df_allsides_unmatched[clean_allsides]\n",
    "df_mbfc_unmatched = df_mbfc_unmatched[clean_mbfc]"
   ]
  },
  {
   "cell_type": "markdown",
   "metadata": {},
   "source": [
    "### b) Some inital stats:"
   ]
  },
  {
   "cell_type": "code",
   "execution_count": 38,
   "metadata": {},
   "outputs": [
    {
     "name": "stdout",
     "output_type": "stream",
     "text": [
      "Final number of matched sources: 237 \n",
      "Final number of unmmatched AllSides sources: 96 \n",
      "Final number of unmatched MBFC Sources: 2417\n",
      "\n",
      "Final number of *unmmatched* AllSides sources: 29% \n",
      "Final number of *unmatched* MBFC Sources: 92%\n"
     ]
    }
   ],
   "source": [
    "final_match = df_matched.shape[0]\n",
    "allsides_unmatched = df_allsides_unmatched.shape[0]\n",
    "mbfc_unmatched = df_mbfc_unmatched.shape[0]\n",
    "\n",
    "print(\"Final number of matched sources: {} \\nFinal number of unmmatched AllSides sources: {} \\nFinal number of unmatched MBFC Sources: {}\".format(final_match, allsides_unmatched, mbfc_unmatched))\n",
    "print(\"\\nFinal number of *unmmatched* AllSides sources: {:.0%} \\nFinal number of *unmatched* MBFC Sources: {:.0%}\".format(allsides_unmatched/num_sources_as, mbfc_unmatched/num_sources_mbfc))"
   ]
  },
  {
   "cell_type": "markdown",
   "metadata": {},
   "source": [
    "### c) Which sources are not present in both datasets?\n",
    "\n",
    "A random sample of sources that didnt match:"
   ]
  },
  {
   "cell_type": "code",
   "execution_count": 39,
   "metadata": {},
   "outputs": [
    {
     "name": "stdout",
     "output_type": "stream",
     "text": [
      "AllSides:\n",
      "[\"journalist's resource\", 'mit news', 'blue virginia', 'nmpolitics.net', 'socialist project/the bullet', 'the center square - michigan', 'univision', 'mtv news online', 'cu independent', 'leesburg today', 'the delaware county daily times', 'daily cardinal', 'longmont times-call', 'abridge news', 'crowdpac', 'chicago defender', 'the western journal', 'the saturday evening post', 'the cadiz record', 'jubilee media', 'center - major media sources', 'howard kurtz', 'listen first project', 'calmatters', 'record journal', 'michigan daily', 'falls church news - press', 'the advocate-messenger', 'barnstable patriot', 'bearing drift', 'allsides', 'the oracle', 'indy week', 'right - major media sources', 'wfae', 'indy online', 'the texan', 'socialist alternative', 'the canyon county zephyr', 'newtrals', 'glaad', 'sf weekly', 'progressive voices of iowa', 'google news', 'the daily show (humor)', 'the fulcrum', 'centre view', 'the imaginative conservative', 'storycorps', 'volante']\n"
     ]
    }
   ],
   "source": [
    "print('AllSides:')\n",
    "print(random.sample(df_allsides_unmatched['name_allsides'].tolist(), 50))"
   ]
  },
  {
   "cell_type": "code",
   "execution_count": 40,
   "metadata": {},
   "outputs": [
    {
     "name": "stdout",
     "output_type": "stream",
     "text": [
      "MB/FC:\n",
      "['vancouver sun', 'deepstatenation', 'colorado springs gazette', 'new scientist', 'red state disaster', 'queerty', 'socialistworker', 'faith family america', 'jackson free press', 'dutch review', 'environmental working group (ewg)', 'bullshido', 'geopolitics alert', 'transpartisan review', 'political wire', 'not liberal', 'news hounds', 'progress tribune', 'health sciences institute', 'military times', 'ara news', 'the new american', 'conservative institute', 'the newly press', 'national center for transgender equality', 'discovery institute', 'oneindia', 'southern patriot news', 'thrive movement', 'eagle pac', '9 news (australia)', 'american free press', 'conservative spirit', 'media equalizer', 'fash the nation', 'the tab', 'republicans suck', 'dayton daily news', 'free wheel media', 'lady liberty news', 'american truth today', 'christian ministries international', 'earthnews-conservative news', 'reflection of mind', 'conservative politics today', 'center for american progress', 'courthouse news service', 'am new york', 'powerline', 'the times of america']\n"
     ]
    }
   ],
   "source": [
    "print('MB/FC:')\n",
    "print(random.sample(df_mbfc_unmatched['name_mbfc'].tolist(), 50))"
   ]
  },
  {
   "cell_type": "markdown",
   "metadata": {},
   "source": [
    "### d) Dealing with differences in \"bias\" categories:\n",
    "\n",
    "(Each source has some additional bias categories such as \"allsides\" or \"questionable sources\" - dealing with that discrepency below)"
   ]
  },
  {
   "cell_type": "markdown",
   "metadata": {},
   "source": [
    "#### Lets address AllSides first:"
   ]
  },
  {
   "cell_type": "code",
   "execution_count": 41,
   "metadata": {
    "scrolled": true
   },
   "outputs": [
    {
     "name": "stdout",
     "output_type": "stream",
     "text": [
      "Total Sources: 237\n",
      "\n",
      "Category Count: \n",
      "center          70\n",
      "left-center     54\n",
      "left            42\n",
      "right           36\n",
      "right-center    33\n",
      "allsides         2\n",
      "Name: bias_as, dtype: int64 \n",
      "\n",
      "Category Percentage Breakdown: \n",
      "center          29.535865\n",
      "left-center     22.784810\n",
      "left            17.721519\n",
      "right           15.189873\n",
      "right-center    13.924051\n",
      "allsides         0.843882\n",
      "Name: bias_as, dtype: float64\n"
     ]
    }
   ],
   "source": [
    "print_stats(df_matched['bias_as'])"
   ]
  },
  {
   "cell_type": "markdown",
   "metadata": {},
   "source": [
    "#### Going to drop \"allsides\" as they are news aggregators:"
   ]
  },
  {
   "cell_type": "code",
   "execution_count": 42,
   "metadata": {},
   "outputs": [
    {
     "data": {
      "text/html": [
       "<div>\n",
       "<style scoped>\n",
       "    .dataframe tbody tr th:only-of-type {\n",
       "        vertical-align: middle;\n",
       "    }\n",
       "\n",
       "    .dataframe tbody tr th {\n",
       "        vertical-align: top;\n",
       "    }\n",
       "\n",
       "    .dataframe thead th {\n",
       "        text-align: right;\n",
       "    }\n",
       "</style>\n",
       "<table border=\"1\" class=\"dataframe\">\n",
       "  <thead>\n",
       "    <tr style=\"text-align: right;\">\n",
       "      <th></th>\n",
       "      <th>name_allsides</th>\n",
       "      <th>url_as</th>\n",
       "      <th>bias_as</th>\n",
       "      <th>agree_as</th>\n",
       "      <th>disagree_as</th>\n",
       "      <th>agree_ratio_as</th>\n",
       "      <th>agree_desc_as</th>\n",
       "      <th>orig_name_as</th>\n",
       "      <th>unique_id_as</th>\n",
       "      <th>news_link</th>\n",
       "      <th>bias_mbfc</th>\n",
       "      <th>reporting_mbfc</th>\n",
       "      <th>country_mbfc</th>\n",
       "      <th>references_mbfc</th>\n",
       "      <th>orig_name_mbfc</th>\n",
       "      <th>unique_id_mbfc</th>\n",
       "      <th>name_mbfc</th>\n",
       "    </tr>\n",
       "  </thead>\n",
       "  <tbody>\n",
       "    <tr>\n",
       "      <td>120</td>\n",
       "      <td>the flip side</td>\n",
       "      <td>https://www.allsides.com/news-source/flip-side...</td>\n",
       "      <td>allsides</td>\n",
       "      <td>306.0</td>\n",
       "      <td>241.0</td>\n",
       "      <td>1.269710</td>\n",
       "      <td>somewhat agree</td>\n",
       "      <td>the flip side</td>\n",
       "      <td>258.0</td>\n",
       "      <td>https://mediabiasfactcheck.com/the-flip-side/</td>\n",
       "      <td>center</td>\n",
       "      <td>high</td>\n",
       "      <td>united states</td>\n",
       "      <td>0</td>\n",
       "      <td>the flip side</td>\n",
       "      <td>2292.0</td>\n",
       "      <td>the flip side</td>\n",
       "    </tr>\n",
       "    <tr>\n",
       "      <td>235</td>\n",
       "      <td>yahoo! the 360</td>\n",
       "      <td>https://www.allsides.com/news-source/yahoo-360...</td>\n",
       "      <td>allsides</td>\n",
       "      <td>71.0</td>\n",
       "      <td>69.0</td>\n",
       "      <td>1.028986</td>\n",
       "      <td>somewhat agree</td>\n",
       "      <td>yahoo! the 360</td>\n",
       "      <td>331.0</td>\n",
       "      <td>https://mediabiasfactcheck.com/yahoo-news/</td>\n",
       "      <td>left-center</td>\n",
       "      <td>high</td>\n",
       "      <td>united states</td>\n",
       "      <td>NaN</td>\n",
       "      <td>yahoo news</td>\n",
       "      <td>manual_8</td>\n",
       "      <td>yahoo news</td>\n",
       "    </tr>\n",
       "  </tbody>\n",
       "</table>\n",
       "</div>"
      ],
      "text/plain": [
       "      name_allsides                                             url_as  \\\n",
       "120   the flip side  https://www.allsides.com/news-source/flip-side...   \n",
       "235  yahoo! the 360  https://www.allsides.com/news-source/yahoo-360...   \n",
       "\n",
       "      bias_as  agree_as  disagree_as  agree_ratio_as   agree_desc_as  \\\n",
       "120  allsides     306.0        241.0        1.269710  somewhat agree   \n",
       "235  allsides      71.0         69.0        1.028986  somewhat agree   \n",
       "\n",
       "       orig_name_as  unique_id_as  \\\n",
       "120   the flip side         258.0   \n",
       "235  yahoo! the 360         331.0   \n",
       "\n",
       "                                         news_link    bias_mbfc  \\\n",
       "120  https://mediabiasfactcheck.com/the-flip-side/       center   \n",
       "235     https://mediabiasfactcheck.com/yahoo-news/  left-center   \n",
       "\n",
       "    reporting_mbfc   country_mbfc references_mbfc orig_name_mbfc  \\\n",
       "120           high  united states               0  the flip side   \n",
       "235           high  united states             NaN     yahoo news   \n",
       "\n",
       "    unique_id_mbfc      name_mbfc  \n",
       "120         2292.0  the flip side  \n",
       "235       manual_8     yahoo news  "
      ]
     },
     "execution_count": 42,
     "metadata": {},
     "output_type": "execute_result"
    }
   ],
   "source": [
    "df_matched[df_matched['bias_as'] == 'allsides']"
   ]
  },
  {
   "cell_type": "markdown",
   "metadata": {},
   "source": [
    "#### Lets address MBFC first:"
   ]
  },
  {
   "cell_type": "code",
   "execution_count": 43,
   "metadata": {},
   "outputs": [
    {
     "name": "stdout",
     "output_type": "stream",
     "text": [
      "Total Sources: 237\n",
      "\n",
      "Category Count: \n",
      "left-center                 72\n",
      "left                        45\n",
      "right-center                34\n",
      "right                       33\n",
      "center                      30\n",
      "questionable sources        15\n",
      "pro-science                  5\n",
      "conspiracy-pseudoscience     3\n",
      "Name: bias_mbfc, dtype: int64 \n",
      "\n",
      "Category Percentage Breakdown: \n",
      "left-center                 30.379747\n",
      "left                        18.987342\n",
      "right-center                14.345992\n",
      "right                       13.924051\n",
      "center                      12.658228\n",
      "questionable sources         6.329114\n",
      "pro-science                  2.109705\n",
      "conspiracy-pseudoscience     1.265823\n",
      "Name: bias_mbfc, dtype: float64\n"
     ]
    }
   ],
   "source": [
    "print_stats(df_matched['bias_mbfc'])"
   ]
  },
  {
   "cell_type": "code",
   "execution_count": 44,
   "metadata": {},
   "outputs": [
    {
     "name": "stdout",
     "output_type": "stream",
     "text": [
      "Questionable sources: \n",
      " ['american thinker', 'daily mail', 'drudge report', 'frontpage magazine', 'judicial watch', 'pj media', 'pj media', 'quillette', 'right side news', 'right wing news', 'the gateway pundit', 'the national pulse', 'breitbart', 'cns news', 'world net daily (wnd)']\n",
      "\n",
      "Pro-science: \n",
      " ['phys', 'psychology today', 'science daily', 'scientific american', 'eurekaalert']\n",
      "\n",
      "Conspiracy-pseudoscience: \n",
      " ['infowars', 'live action', 'christian broadcasting network (cbn)']\n"
     ]
    }
   ],
   "source": [
    "print(\"Questionable sources: \\n\", list(df_matched['name_mbfc'][df_matched['bias_mbfc']=='questionable sources']))\n",
    "print(\"\\nPro-science: \\n\", list(df_matched['name_mbfc'][df_matched['bias_mbfc']=='pro-science']))\n",
    "print(\"\\nConspiracy-pseudoscience: \\n\", list(df_matched['name_mbfc'][df_matched['bias_mbfc']=='conspiracy-pseudoscience']))"
   ]
  },
  {
   "cell_type": "markdown",
   "metadata": {},
   "source": [
    "#### I manually checked the MB/FC pages for each of the above news sources:\n",
    "1. Questionable sources are all \"right\" or \"extreme\" (mentioned as \"right\" or \"extreme\" on their respective pages) --> categorizing them as: right** \n",
    "2. Conspiracy sources: Infowars = right, Live Action News = unrated (will drop it), CBN = right-leaning\n",
    "3. Pro-science sources: no rating or mention of political bias. Categorizing as least biased, aka Center"
   ]
  },
  {
   "cell_type": "code",
   "execution_count": 45,
   "metadata": {},
   "outputs": [
    {
     "name": "stderr",
     "output_type": "stream",
     "text": [
      "/Users/shagun/anaconda/envs/pyv36/lib/python3.6/site-packages/ipykernel/__main__.py:11: SettingWithCopyWarning: \n",
      "A value is trying to be set on a copy of a slice from a DataFrame\n",
      "\n",
      "See the caveats in the documentation: http://pandas.pydata.org/pandas-docs/stable/user_guide/indexing.html#returning-a-view-versus-a-copy\n",
      "/Users/shagun/anaconda/envs/pyv36/lib/python3.6/site-packages/ipykernel/__main__.py:14: SettingWithCopyWarning: \n",
      "A value is trying to be set on a copy of a slice from a DataFrame\n",
      "\n",
      "See the caveats in the documentation: http://pandas.pydata.org/pandas-docs/stable/user_guide/indexing.html#returning-a-view-versus-a-copy\n"
     ]
    }
   ],
   "source": [
    "### Address all the concerns above as identified ###\n",
    "\n",
    "df_compare = df_matched.copy()\n",
    "\n",
    "# Pro-science sources: no rating or mention of political bias. Categorizing as least biased, aka Center¶\n",
    "df_compare.loc[55, 'bias_mbfc'] = 'right'\n",
    "df_compare.loc[214, 'bias_mbfc'] = 'right-center'\n",
    "df_compare = df_compare.drop([170],axis='rows')\n",
    "\n",
    "# questionable sources = right\n",
    "df_compare.bias_mbfc[df_compare.bias_mbfc=='questionable sources'] = 'right'\n",
    "\n",
    "# Conspiracy sources: Infowars = right, Live Action News = unrated, CBN = right-leaning\n",
    "df_compare.bias_mbfc[df_compare.bias_mbfc=='pro-science'] = 'center'\n",
    "\n",
    "# drop allsides as they are news aggregators. \n",
    "df_compare = df_compare[df_compare['bias_as'] != 'allsides'].reset_index(drop=True)"
   ]
  },
  {
   "cell_type": "code",
   "execution_count": null,
   "metadata": {
    "collapsed": true
   },
   "outputs": [],
   "source": []
  },
  {
   "cell_type": "markdown",
   "metadata": {},
   "source": [
    "## 3.2 Comparing the Ratings\n",
    "\n",
    "### a) Compare fraction and count of political leanings in AllSides vs. MBFC"
   ]
  },
  {
   "cell_type": "code",
   "execution_count": 46,
   "metadata": {},
   "outputs": [
    {
     "data": {
      "image/png": "[encoded data removed]",
      "text/plain": [
       "<Figure size 720x432 with 1 Axes>"
      ]
     },
     "metadata": {},
     "output_type": "display_data"
    },
    {
     "data": {
      "text/plain": [
       "<Figure size 432x288 with 0 Axes>"
      ]
     },
     "metadata": {},
     "output_type": "display_data"
    }
   ],
   "source": [
    "sns.set(style=\"whitegrid\")\n",
    "labels = BIAS_LIST\n",
    "as_means = list(df_compare['bias_as'].value_counts(normalize=True).reindex(BIAS_LIST))\n",
    "mbfc_means = list(df_compare['bias_mbfc'].value_counts(normalize=True).reindex(BIAS_LIST))\n",
    "\n",
    "x = np.arange(len(labels))  # the label locations\n",
    "width = 0.32  # the width of the bars\n",
    "\n",
    "fig, ax = plt.subplots(figsize=(10, 6))\n",
    "rects1 = ax.bar(x - width/2, as_means, width, label='AllSides')\n",
    "rects2 = ax.bar(x + width/2, mbfc_means, width, label='MB/FC')\n",
    "\n",
    "# Add some text for labels, title and custom x-axis tick labels, etc.\n",
    "ax.set_ylabel('Fraction of Sources', fontsize=16)\n",
    "ax.set_title('AllSides vs. MB/FC',  fontsize=18)\n",
    "ax.set_xticks(x)\n",
    "ax.tick_params(axis=\"y\", labelsize=14)\n",
    "ax.set_xticklabels(labels,  fontsize=16)\n",
    "ax.legend(fontsize=14)\n",
    "\n",
    "\n",
    "fig.tight_layout()\n",
    "plt.show()\n",
    "plt.savefig(os.path.join(RESULTS_DIR, 'allsides_vs_mbfc_matched.png'), dpi=300, bbox_inches = \"tight\")"
   ]
  },
  {
   "cell_type": "markdown",
   "metadata": {},
   "source": [
    "#### Updated breakdown stats after removing the additional bias categories"
   ]
  },
  {
   "cell_type": "code",
   "execution_count": 47,
   "metadata": {},
   "outputs": [
    {
     "name": "stdout",
     "output_type": "stream",
     "text": [
      "Total Sources: 234\n",
      "\n",
      "Category Count: \n",
      "center          70\n",
      "left-center     54\n",
      "left            42\n",
      "right           36\n",
      "right-center    32\n",
      "Name: bias_as, dtype: int64 \n",
      "\n",
      "Category Percentage Breakdown: \n",
      "center          29.914530\n",
      "left-center     23.076923\n",
      "left            17.948718\n",
      "right           15.384615\n",
      "right-center    13.675214\n",
      "Name: bias_as, dtype: float64\n"
     ]
    }
   ],
   "source": [
    "print_stats(df_compare['bias_as'])"
   ]
  },
  {
   "cell_type": "code",
   "execution_count": 48,
   "metadata": {},
   "outputs": [
    {
     "name": "stdout",
     "output_type": "stream",
     "text": [
      "Total Sources: 234\n",
      "\n",
      "Category Count: \n",
      "left-center     71\n",
      "right           49\n",
      "left            45\n",
      "right-center    35\n",
      "center          34\n",
      "Name: bias_mbfc, dtype: int64 \n",
      "\n",
      "Category Percentage Breakdown: \n",
      "left-center     30.341880\n",
      "right           20.940171\n",
      "left            19.230769\n",
      "right-center    14.957265\n",
      "center          14.529915\n",
      "Name: bias_mbfc, dtype: float64\n"
     ]
    }
   ],
   "source": [
    "print_stats(df_compare['bias_mbfc'])"
   ]
  },
  {
   "cell_type": "markdown",
   "metadata": {},
   "source": [
    "### b) Compare the difference in ratings"
   ]
  },
  {
   "cell_type": "code",
   "execution_count": 49,
   "metadata": {
    "collapsed": true
   },
   "outputs": [],
   "source": [
    "df_compare_ratings = df_compare[['name_allsides', 'name_mbfc', 'bias_as','bias_mbfc']].copy()"
   ]
  },
  {
   "cell_type": "markdown",
   "metadata": {},
   "source": [
    "### 1. Map the political leanings to numerical ratings \n",
    "\n",
    "Using 0 centered scale, 0 = center political bias"
   ]
  },
  {
   "cell_type": "code",
   "execution_count": 50,
   "metadata": {},
   "outputs": [
    {
     "data": {
      "text/plain": [
       "{'left': -2, 'left-center': -1, 'center': 0, 'right-center': 1, 'right': 2}"
      ]
     },
     "execution_count": 50,
     "metadata": {},
     "output_type": "execute_result"
    }
   ],
   "source": [
    "map_bias_vals = dict(zip(BIAS_LIST, list(range(-2,3))))\n",
    "map_bias_vals"
   ]
  },
  {
   "cell_type": "markdown",
   "metadata": {},
   "source": [
    "<img src=\"images/colourbar.png\" alt=\"Drawing\" style=\"width: 500px;\"/>"
   ]
  },
  {
   "cell_type": "code",
   "execution_count": 51,
   "metadata": {
    "collapsed": true
   },
   "outputs": [],
   "source": [
    "df_compare_ratings[\"bias_as_enc\"] = df_compare_ratings[\"bias_as\"].map(map_bias_vals)\n",
    "df_compare_ratings[\"bias_mbfc_enc\"] = df_compare_ratings[\"bias_mbfc\"].map(map_bias_vals)"
   ]
  },
  {
   "cell_type": "markdown",
   "metadata": {},
   "source": [
    "### 2 . Mean and MAD of the two datasets:"
   ]
  },
  {
   "cell_type": "code",
   "execution_count": 52,
   "metadata": {},
   "outputs": [
    {
     "name": "stdout",
     "output_type": "stream",
     "text": [
      "AllSides  Mean: -0.1453 MAD: 1.4826\n",
      "MBFC      Mean: -0.1197 MAD: 1.4826\n"
     ]
    }
   ],
   "source": [
    "as_mean = df_compare_ratings['bias_as_enc'].mean()\n",
    "mbfc_mean = df_compare_ratings['bias_mbfc_enc'].mean()\n",
    "\n",
    "as_mad = stats.median_absolute_deviation(df_compare_ratings['bias_as_enc'].values)\n",
    "mbfc_mad = stats.median_absolute_deviation(df_compare_ratings['bias_mbfc_enc'].values)\n",
    "\n",
    "print('AllSides  Mean: {} MAD: {}'.format(round(as_mean, 4), as_mad))\n",
    "print('MBFC      Mean: {} MAD: {}'.format(round(mbfc_mean, 4), mbfc_mad))"
   ]
  },
  {
   "cell_type": "markdown",
   "metadata": {},
   "source": [
    "Negative mean suggests more left leaning"
   ]
  },
  {
   "cell_type": "markdown",
   "metadata": {},
   "source": [
    "### 3. Calculate the differencecs in political rating:"
   ]
  },
  {
   "cell_type": "code",
   "execution_count": 53,
   "metadata": {
    "collapsed": true
   },
   "outputs": [],
   "source": [
    "df_compare_ratings['directional_dist_shift_in_AS'] = (df_compare_ratings[\"bias_mbfc_enc\"] - df_compare_ratings[\"bias_as_enc\"])\n",
    "df_compare_ratings['abs_distance'] = (df_compare_ratings[\"bias_mbfc_enc\"] - df_compare_ratings[\"bias_as_enc\"]).abs()"
   ]
  },
  {
   "cell_type": "markdown",
   "metadata": {},
   "source": [
    "#### 1. Directional difference: \"directional_dist_shift_in_AS\"\n",
    "* How much and in what direction do the AllSides rating differ when compared to MB/FC?\n",
    "* -ve distance: The AS political rating moved to the left when compared to MB/FC\n",
    "* +ve distance: The AS political rating moved to the right when compared to MB/FC\n",
    "    \n",
    "<img src=\"images/colourbar.png\" alt=\"Drawing\" style=\"width: 400px;\"/>    \n",
    "\n",
    "#### 2. Absolute difference in rating: \"abs_distance\""
   ]
  },
  {
   "cell_type": "markdown",
   "metadata": {},
   "source": [
    "#### Which news sources had no difference?\n",
    "Displaying 15 news sources (not the whole list) "
   ]
  },
  {
   "cell_type": "code",
   "execution_count": 54,
   "metadata": {},
   "outputs": [
    {
     "data": {
      "text/html": [
       "<div>\n",
       "<style scoped>\n",
       "    .dataframe tbody tr th:only-of-type {\n",
       "        vertical-align: middle;\n",
       "    }\n",
       "\n",
       "    .dataframe tbody tr th {\n",
       "        vertical-align: top;\n",
       "    }\n",
       "\n",
       "    .dataframe thead th {\n",
       "        text-align: right;\n",
       "    }\n",
       "</style>\n",
       "<table border=\"1\" class=\"dataframe\">\n",
       "  <thead>\n",
       "    <tr style=\"text-align: right;\">\n",
       "      <th></th>\n",
       "      <th>name_allsides</th>\n",
       "      <th>name_mbfc</th>\n",
       "      <th>bias_as</th>\n",
       "      <th>bias_mbfc</th>\n",
       "      <th>bias_as_enc</th>\n",
       "      <th>bias_mbfc_enc</th>\n",
       "      <th>directional_dist_shift_in_AS</th>\n",
       "      <th>abs_distance</th>\n",
       "    </tr>\n",
       "  </thead>\n",
       "  <tbody>\n",
       "    <tr>\n",
       "      <td>0</td>\n",
       "      <td>abc news</td>\n",
       "      <td>abc news</td>\n",
       "      <td>left-center</td>\n",
       "      <td>left-center</td>\n",
       "      <td>-1</td>\n",
       "      <td>-1</td>\n",
       "      <td>0</td>\n",
       "      <td>0</td>\n",
       "    </tr>\n",
       "    <tr>\n",
       "      <td>123</td>\n",
       "      <td>the independent</td>\n",
       "      <td>the independent</td>\n",
       "      <td>left-center</td>\n",
       "      <td>left-center</td>\n",
       "      <td>-1</td>\n",
       "      <td>-1</td>\n",
       "      <td>0</td>\n",
       "      <td>0</td>\n",
       "    </tr>\n",
       "    <tr>\n",
       "      <td>125</td>\n",
       "      <td>the libertarian republic</td>\n",
       "      <td>the libertarian republic</td>\n",
       "      <td>right-center</td>\n",
       "      <td>right-center</td>\n",
       "      <td>1</td>\n",
       "      <td>1</td>\n",
       "      <td>0</td>\n",
       "      <td>0</td>\n",
       "    </tr>\n",
       "    <tr>\n",
       "      <td>126</td>\n",
       "      <td>the nation</td>\n",
       "      <td>the nation</td>\n",
       "      <td>left</td>\n",
       "      <td>left</td>\n",
       "      <td>-2</td>\n",
       "      <td>-2</td>\n",
       "      <td>0</td>\n",
       "      <td>0</td>\n",
       "    </tr>\n",
       "    <tr>\n",
       "      <td>127</td>\n",
       "      <td>the national pulse</td>\n",
       "      <td>the national pulse</td>\n",
       "      <td>right</td>\n",
       "      <td>right</td>\n",
       "      <td>2</td>\n",
       "      <td>2</td>\n",
       "      <td>0</td>\n",
       "      <td>0</td>\n",
       "    </tr>\n",
       "    <tr>\n",
       "      <td>129</td>\n",
       "      <td>the resurgent</td>\n",
       "      <td>the resurgent</td>\n",
       "      <td>right</td>\n",
       "      <td>right</td>\n",
       "      <td>2</td>\n",
       "      <td>2</td>\n",
       "      <td>0</td>\n",
       "      <td>0</td>\n",
       "    </tr>\n",
       "    <tr>\n",
       "      <td>132</td>\n",
       "      <td>the verge</td>\n",
       "      <td>the verge</td>\n",
       "      <td>left-center</td>\n",
       "      <td>left-center</td>\n",
       "      <td>-1</td>\n",
       "      <td>-1</td>\n",
       "      <td>0</td>\n",
       "      <td>0</td>\n",
       "    </tr>\n",
       "    <tr>\n",
       "      <td>133</td>\n",
       "      <td>time magazine</td>\n",
       "      <td>time magazine</td>\n",
       "      <td>left-center</td>\n",
       "      <td>left-center</td>\n",
       "      <td>-1</td>\n",
       "      <td>-1</td>\n",
       "      <td>0</td>\n",
       "      <td>0</td>\n",
       "    </tr>\n",
       "    <tr>\n",
       "      <td>134</td>\n",
       "      <td>townhall</td>\n",
       "      <td>townhall</td>\n",
       "      <td>right</td>\n",
       "      <td>right</td>\n",
       "      <td>2</td>\n",
       "      <td>2</td>\n",
       "      <td>0</td>\n",
       "      <td>0</td>\n",
       "    </tr>\n",
       "    <tr>\n",
       "      <td>121</td>\n",
       "      <td>the guardian</td>\n",
       "      <td>the guardian</td>\n",
       "      <td>left-center</td>\n",
       "      <td>left-center</td>\n",
       "      <td>-1</td>\n",
       "      <td>-1</td>\n",
       "      <td>0</td>\n",
       "      <td>0</td>\n",
       "    </tr>\n",
       "    <tr>\n",
       "      <td>135</td>\n",
       "      <td>truthdig</td>\n",
       "      <td>truthdig</td>\n",
       "      <td>left</td>\n",
       "      <td>left</td>\n",
       "      <td>-2</td>\n",
       "      <td>-2</td>\n",
       "      <td>0</td>\n",
       "      <td>0</td>\n",
       "    </tr>\n",
       "    <tr>\n",
       "      <td>141</td>\n",
       "      <td>vox</td>\n",
       "      <td>vox</td>\n",
       "      <td>left</td>\n",
       "      <td>left</td>\n",
       "      <td>-2</td>\n",
       "      <td>-2</td>\n",
       "      <td>0</td>\n",
       "      <td>0</td>\n",
       "    </tr>\n",
       "    <tr>\n",
       "      <td>143</td>\n",
       "      <td>washington free beacon</td>\n",
       "      <td>washington free beacon</td>\n",
       "      <td>right</td>\n",
       "      <td>right</td>\n",
       "      <td>2</td>\n",
       "      <td>2</td>\n",
       "      <td>0</td>\n",
       "      <td>0</td>\n",
       "    </tr>\n",
       "    <tr>\n",
       "      <td>144</td>\n",
       "      <td>washington monthly</td>\n",
       "      <td>washington monthly</td>\n",
       "      <td>left-center</td>\n",
       "      <td>left-center</td>\n",
       "      <td>-1</td>\n",
       "      <td>-1</td>\n",
       "      <td>0</td>\n",
       "      <td>0</td>\n",
       "    </tr>\n",
       "    <tr>\n",
       "      <td>145</td>\n",
       "      <td>washington post</td>\n",
       "      <td>washington post</td>\n",
       "      <td>left-center</td>\n",
       "      <td>left-center</td>\n",
       "      <td>-1</td>\n",
       "      <td>-1</td>\n",
       "      <td>0</td>\n",
       "      <td>0</td>\n",
       "    </tr>\n",
       "  </tbody>\n",
       "</table>\n",
       "</div>"
      ],
      "text/plain": [
       "                name_allsides                 name_mbfc       bias_as  \\\n",
       "0                    abc news                  abc news   left-center   \n",
       "123           the independent           the independent   left-center   \n",
       "125  the libertarian republic  the libertarian republic  right-center   \n",
       "126                the nation                the nation          left   \n",
       "127        the national pulse        the national pulse         right   \n",
       "129             the resurgent             the resurgent         right   \n",
       "132                 the verge                 the verge   left-center   \n",
       "133             time magazine             time magazine   left-center   \n",
       "134                  townhall                  townhall         right   \n",
       "121              the guardian              the guardian   left-center   \n",
       "135                  truthdig                  truthdig          left   \n",
       "141                       vox                       vox          left   \n",
       "143    washington free beacon    washington free beacon         right   \n",
       "144        washington monthly        washington monthly   left-center   \n",
       "145           washington post           washington post   left-center   \n",
       "\n",
       "        bias_mbfc  bias_as_enc  bias_mbfc_enc  directional_dist_shift_in_AS  \\\n",
       "0     left-center           -1             -1                             0   \n",
       "123   left-center           -1             -1                             0   \n",
       "125  right-center            1              1                             0   \n",
       "126          left           -2             -2                             0   \n",
       "127         right            2              2                             0   \n",
       "129         right            2              2                             0   \n",
       "132   left-center           -1             -1                             0   \n",
       "133   left-center           -1             -1                             0   \n",
       "134         right            2              2                             0   \n",
       "121   left-center           -1             -1                             0   \n",
       "135          left           -2             -2                             0   \n",
       "141          left           -2             -2                             0   \n",
       "143         right            2              2                             0   \n",
       "144   left-center           -1             -1                             0   \n",
       "145   left-center           -1             -1                             0   \n",
       "\n",
       "     abs_distance  \n",
       "0               0  \n",
       "123             0  \n",
       "125             0  \n",
       "126             0  \n",
       "127             0  \n",
       "129             0  \n",
       "132             0  \n",
       "133             0  \n",
       "134             0  \n",
       "121             0  \n",
       "135             0  \n",
       "141             0  \n",
       "143             0  \n",
       "144             0  \n",
       "145             0  "
      ]
     },
     "execution_count": 54,
     "metadata": {},
     "output_type": "execute_result"
    }
   ],
   "source": [
    "df_compare_ratings.sort_values('abs_distance', ascending=True).head(15)"
   ]
  },
  {
   "cell_type": "markdown",
   "metadata": {},
   "source": [
    "#### Which news sources had the most difference?\n",
    "Displaying 15 news sources (not the whole list), sorted by absolute distance "
   ]
  },
  {
   "cell_type": "code",
   "execution_count": 55,
   "metadata": {},
   "outputs": [
    {
     "data": {
      "text/html": [
       "<div>\n",
       "<style scoped>\n",
       "    .dataframe tbody tr th:only-of-type {\n",
       "        vertical-align: middle;\n",
       "    }\n",
       "\n",
       "    .dataframe tbody tr th {\n",
       "        vertical-align: top;\n",
       "    }\n",
       "\n",
       "    .dataframe thead th {\n",
       "        text-align: right;\n",
       "    }\n",
       "</style>\n",
       "<table border=\"1\" class=\"dataframe\">\n",
       "  <thead>\n",
       "    <tr style=\"text-align: right;\">\n",
       "      <th></th>\n",
       "      <th>name_allsides</th>\n",
       "      <th>name_mbfc</th>\n",
       "      <th>bias_as</th>\n",
       "      <th>bias_mbfc</th>\n",
       "      <th>bias_as_enc</th>\n",
       "      <th>bias_mbfc_enc</th>\n",
       "      <th>directional_dist_shift_in_AS</th>\n",
       "      <th>abs_distance</th>\n",
       "    </tr>\n",
       "  </thead>\n",
       "  <tbody>\n",
       "    <tr>\n",
       "      <td>7</td>\n",
       "      <td>arkansas democrat-gazette</td>\n",
       "      <td>arkansas democrat-gazette</td>\n",
       "      <td>left</td>\n",
       "      <td>right-center</td>\n",
       "      <td>-2</td>\n",
       "      <td>1</td>\n",
       "      <td>3</td>\n",
       "      <td>3</td>\n",
       "    </tr>\n",
       "    <tr>\n",
       "      <td>202</td>\n",
       "      <td>the week - news</td>\n",
       "      <td>the week</td>\n",
       "      <td>center</td>\n",
       "      <td>left</td>\n",
       "      <td>0</td>\n",
       "      <td>-2</td>\n",
       "      <td>-2</td>\n",
       "      <td>2</td>\n",
       "    </tr>\n",
       "    <tr>\n",
       "      <td>166</td>\n",
       "      <td>herald democrat</td>\n",
       "      <td>albany democrat-herald</td>\n",
       "      <td>left</td>\n",
       "      <td>center</td>\n",
       "      <td>-2</td>\n",
       "      <td>0</td>\n",
       "      <td>2</td>\n",
       "      <td>2</td>\n",
       "    </tr>\n",
       "    <tr>\n",
       "      <td>221</td>\n",
       "      <td>new hampshire union leader</td>\n",
       "      <td>manchester union leader</td>\n",
       "      <td>center</td>\n",
       "      <td>right</td>\n",
       "      <td>0</td>\n",
       "      <td>2</td>\n",
       "      <td>2</td>\n",
       "      <td>2</td>\n",
       "    </tr>\n",
       "    <tr>\n",
       "      <td>185</td>\n",
       "      <td>spokesman review</td>\n",
       "      <td>the spokesman-review</td>\n",
       "      <td>left-center</td>\n",
       "      <td>right-center</td>\n",
       "      <td>-1</td>\n",
       "      <td>1</td>\n",
       "      <td>2</td>\n",
       "      <td>2</td>\n",
       "    </tr>\n",
       "    <tr>\n",
       "      <td>117</td>\n",
       "      <td>the economist</td>\n",
       "      <td>the economist</td>\n",
       "      <td>left-center</td>\n",
       "      <td>center</td>\n",
       "      <td>-1</td>\n",
       "      <td>0</td>\n",
       "      <td>1</td>\n",
       "      <td>1</td>\n",
       "    </tr>\n",
       "    <tr>\n",
       "      <td>88</td>\n",
       "      <td>politifact</td>\n",
       "      <td>politifact</td>\n",
       "      <td>left-center</td>\n",
       "      <td>center</td>\n",
       "      <td>-1</td>\n",
       "      <td>0</td>\n",
       "      <td>1</td>\n",
       "      <td>1</td>\n",
       "    </tr>\n",
       "    <tr>\n",
       "      <td>86</td>\n",
       "      <td>politico</td>\n",
       "      <td>politico</td>\n",
       "      <td>left-center</td>\n",
       "      <td>center</td>\n",
       "      <td>-1</td>\n",
       "      <td>0</td>\n",
       "      <td>1</td>\n",
       "      <td>1</td>\n",
       "    </tr>\n",
       "    <tr>\n",
       "      <td>85</td>\n",
       "      <td>pj media</td>\n",
       "      <td>pj media</td>\n",
       "      <td>right-center</td>\n",
       "      <td>right</td>\n",
       "      <td>1</td>\n",
       "      <td>2</td>\n",
       "      <td>1</td>\n",
       "      <td>1</td>\n",
       "    </tr>\n",
       "    <tr>\n",
       "      <td>178</td>\n",
       "      <td>npr online news</td>\n",
       "      <td>npr</td>\n",
       "      <td>center</td>\n",
       "      <td>left-center</td>\n",
       "      <td>0</td>\n",
       "      <td>-1</td>\n",
       "      <td>-1</td>\n",
       "      <td>1</td>\n",
       "    </tr>\n",
       "    <tr>\n",
       "      <td>180</td>\n",
       "      <td>pbs newshour</td>\n",
       "      <td>pbs news hour</td>\n",
       "      <td>center</td>\n",
       "      <td>left-center</td>\n",
       "      <td>0</td>\n",
       "      <td>-1</td>\n",
       "      <td>-1</td>\n",
       "      <td>1</td>\n",
       "    </tr>\n",
       "    <tr>\n",
       "      <td>181</td>\n",
       "      <td>portland press herald</td>\n",
       "      <td>portland press-herald</td>\n",
       "      <td>center</td>\n",
       "      <td>left-center</td>\n",
       "      <td>0</td>\n",
       "      <td>-1</td>\n",
       "      <td>-1</td>\n",
       "      <td>1</td>\n",
       "    </tr>\n",
       "    <tr>\n",
       "      <td>79</td>\n",
       "      <td>one america news network</td>\n",
       "      <td>one america news network</td>\n",
       "      <td>right-center</td>\n",
       "      <td>right</td>\n",
       "      <td>1</td>\n",
       "      <td>2</td>\n",
       "      <td>1</td>\n",
       "      <td>1</td>\n",
       "    </tr>\n",
       "    <tr>\n",
       "      <td>78</td>\n",
       "      <td>newsweek</td>\n",
       "      <td>newsweek</td>\n",
       "      <td>left-center</td>\n",
       "      <td>left</td>\n",
       "      <td>-1</td>\n",
       "      <td>-2</td>\n",
       "      <td>-1</td>\n",
       "      <td>1</td>\n",
       "    </tr>\n",
       "    <tr>\n",
       "      <td>183</td>\n",
       "      <td>realclearpolitics</td>\n",
       "      <td>real clear politics</td>\n",
       "      <td>center</td>\n",
       "      <td>right-center</td>\n",
       "      <td>0</td>\n",
       "      <td>1</td>\n",
       "      <td>1</td>\n",
       "      <td>1</td>\n",
       "    </tr>\n",
       "  </tbody>\n",
       "</table>\n",
       "</div>"
      ],
      "text/plain": [
       "                  name_allsides                  name_mbfc       bias_as  \\\n",
       "7     arkansas democrat-gazette  arkansas democrat-gazette          left   \n",
       "202             the week - news                   the week        center   \n",
       "166             herald democrat     albany democrat-herald          left   \n",
       "221  new hampshire union leader    manchester union leader        center   \n",
       "185            spokesman review       the spokesman-review   left-center   \n",
       "117               the economist              the economist   left-center   \n",
       "88                   politifact                 politifact   left-center   \n",
       "86                     politico                   politico   left-center   \n",
       "85                     pj media                   pj media  right-center   \n",
       "178             npr online news                        npr        center   \n",
       "180                pbs newshour              pbs news hour        center   \n",
       "181       portland press herald      portland press-herald        center   \n",
       "79     one america news network   one america news network  right-center   \n",
       "78                     newsweek                   newsweek   left-center   \n",
       "183           realclearpolitics        real clear politics        center   \n",
       "\n",
       "        bias_mbfc  bias_as_enc  bias_mbfc_enc  directional_dist_shift_in_AS  \\\n",
       "7    right-center           -2              1                             3   \n",
       "202          left            0             -2                            -2   \n",
       "166        center           -2              0                             2   \n",
       "221         right            0              2                             2   \n",
       "185  right-center           -1              1                             2   \n",
       "117        center           -1              0                             1   \n",
       "88         center           -1              0                             1   \n",
       "86         center           -1              0                             1   \n",
       "85          right            1              2                             1   \n",
       "178   left-center            0             -1                            -1   \n",
       "180   left-center            0             -1                            -1   \n",
       "181   left-center            0             -1                            -1   \n",
       "79          right            1              2                             1   \n",
       "78           left           -1             -2                            -1   \n",
       "183  right-center            0              1                             1   \n",
       "\n",
       "     abs_distance  \n",
       "7               3  \n",
       "202             2  \n",
       "166             2  \n",
       "221             2  \n",
       "185             2  \n",
       "117             1  \n",
       "88              1  \n",
       "86              1  \n",
       "85              1  \n",
       "178             1  \n",
       "180             1  \n",
       "181             1  \n",
       "79              1  \n",
       "78              1  \n",
       "183             1  "
      ]
     },
     "execution_count": 55,
     "metadata": {},
     "output_type": "execute_result"
    }
   ],
   "source": [
    "df_compare_ratings.sort_values('abs_distance', ascending=False).head(15)"
   ]
  },
  {
   "cell_type": "markdown",
   "metadata": {},
   "source": [
    "#### More details:"
   ]
  },
  {
   "cell_type": "code",
   "execution_count": 56,
   "metadata": {},
   "outputs": [
    {
     "name": "stdout",
     "output_type": "stream",
     "text": [
      "Overall, on avg AllSides ratings when compared to MBFC moved to the right by 0.0256\n",
      "Overall, the average the difference in the political ratings between the two sources was: 0.3932\n"
     ]
    }
   ],
   "source": [
    "total_shift_dir = round(df_compare_ratings['directional_dist_shift_in_AS'].mean(), 4)\n",
    "direction_move = 'left' if total_shift_dir < 0 else 'right'\n",
    "total_err = df_compare_ratings['abs_distance'].mean()\n",
    "\n",
    "\n",
    "print('Overall, on avg AllSides ratings when compared to MBFC moved to the {} by {}'.format(direction_move, total_shift_dir)) \n",
    "print('Overall, the average the difference in the political ratings between the two sources was: {}'.format(round(total_err, 4))) "
   ]
  },
  {
   "cell_type": "code",
   "execution_count": 57,
   "metadata": {},
   "outputs": [
    {
     "data": {
      "text/plain": [
       "-2      1\n",
       "-1     41\n",
       " 0    148\n",
       " 1     40\n",
       " 2      3\n",
       " 3      1\n",
       "Name: directional_dist_shift_in_AS, dtype: int64"
      ]
     },
     "execution_count": 57,
     "metadata": {},
     "output_type": "execute_result"
    }
   ],
   "source": [
    "df_compare_ratings['directional_dist_shift_in_AS'].value_counts().sort_index()"
   ]
  },
  {
   "cell_type": "markdown",
   "metadata": {},
   "source": [
    "#### Shift in direction of AllSides ratings when compared to MB/FC:"
   ]
  },
  {
   "cell_type": "code",
   "execution_count": 58,
   "metadata": {},
   "outputs": [
    {
     "data": {
      "text/plain": [
       "-2      1\n",
       "-1     41\n",
       " 0    148\n",
       " 1     40\n",
       " 2      3\n",
       " 3      1\n",
       "Name: directional_dist_shift_in_AS, dtype: int64"
      ]
     },
     "execution_count": 58,
     "metadata": {},
     "output_type": "execute_result"
    }
   ],
   "source": [
    "df_compare_ratings['directional_dist_shift_in_AS'].value_counts().sort_index()"
   ]
  },
  {
   "cell_type": "markdown",
   "metadata": {},
   "source": [
    "* -ve numbers: shift to the left\n",
    "* +ve numbers: shift to the right\n",
    "* number value: magniude of change (0 = same rating, 1 = off by one (ex, left to left-center))"
   ]
  },
  {
   "cell_type": "code",
   "execution_count": 59,
   "metadata": {
    "scrolled": true
   },
   "outputs": [
    {
     "data": {
      "image/png": "[encoded data removed]",
      "text/plain": [
       "<Figure size 432x288 with 1 Axes>"
      ]
     },
     "metadata": {},
     "output_type": "display_data"
    }
   ],
   "source": [
    "sns.set(style=\"white\")\n",
    "df_compare_ratings['directional_dist_shift_in_AS'].value_counts().sort_index().plot(kind='bar', color=color_RdBu, rot=45);\n",
    "plt.title(\"Shift in direction of AllSides ratings when compared to MBFC\", fontsize=15)\n",
    "plt.savefig(os.path.join(RESULTS_DIR, 'allsides_vs_mbfc_direction_shift.png'), dpi=300, bbox_inches = \"tight\")"
   ]
  },
  {
   "cell_type": "markdown",
   "metadata": {},
   "source": [
    "Most of the ratings are the same. About an equal number of ratings move to the left and to the right."
   ]
  },
  {
   "cell_type": "markdown",
   "metadata": {},
   "source": [
    "####  Breakdown of absolute difference in political ratings: AllSides vs MB/FC:"
   ]
  },
  {
   "cell_type": "code",
   "execution_count": 60,
   "metadata": {},
   "outputs": [
    {
     "data": {
      "text/plain": [
       "0    148\n",
       "1     81\n",
       "2      4\n",
       "3      1\n",
       "Name: abs_distance, dtype: int64"
      ]
     },
     "execution_count": 60,
     "metadata": {},
     "output_type": "execute_result"
    }
   ],
   "source": [
    "df_compare_ratings['abs_distance'].value_counts().sort_index()"
   ]
  },
  {
   "cell_type": "markdown",
   "metadata": {},
   "source": [
    "0 = same rating, 1 = off by one (ex, left to left-center), 2 = off by two, 3 = off by three"
   ]
  },
  {
   "cell_type": "code",
   "execution_count": 61,
   "metadata": {},
   "outputs": [
    {
     "data": {
      "image/png": "[encoded data removed]",
      "text/plain": [
       "<Figure size 432x288 with 1 Axes>"
      ]
     },
     "metadata": {},
     "output_type": "display_data"
    }
   ],
   "source": [
    "df_compare_ratings['abs_distance'].value_counts(normalize=True).sort_index().plot(kind='bar', color=colors, rot=0);\n",
    "plt.title(\"Breakdown of absolute difference in political ratings: AllSides vs MB/FC:\", fontsize=15)\n",
    "plt.savefig(os.path.join(RESULTS_DIR, 'allsides_vs_mbfc_absolute.png'), dpi=300, bbox_inches = \"tight\")"
   ]
  },
  {
   "cell_type": "markdown",
   "metadata": {},
   "source": [
    "Again most of the ratings are the same (~63%), ~30% change value to one leaning over and very few change more than that."
   ]
  },
  {
   "cell_type": "markdown",
   "metadata": {},
   "source": [
    "## END."
   ]
  },
  {
   "cell_type": "markdown",
   "metadata": {},
   "source": [
    "## Imports and Functions"
   ]
  },
  {
   "cell_type": "code",
   "execution_count": 1,
   "metadata": {
    "collapsed": true
   },
   "outputs": [],
   "source": [
    "import os\n",
    "\n",
    "import pandas as pd\n",
    "import numpy as np\n",
    "import random\n",
    "import matplotlib.pyplot as plt\n",
    "import seaborn as sns\n",
    "\n",
    "from scipy import stats\n",
    "\n",
    "sns.set(style=\"white\", context=\"talk\")\n",
    "%matplotlib inline"
   ]
  },
  {
   "cell_type": "code",
   "execution_count": 2,
   "metadata": {
    "collapsed": true
   },
   "outputs": [],
   "source": [
    "def print_stats(df, topk=None):\n",
    "    print(\"Total Sources: {}\\n\".format(df.shape[0]))\n",
    "    print(\"Category Count: \\n{} \\n\".format(df.value_counts()[:topk]))\n",
    "    print(\"Category Percentage Breakdown: \\n{}\".format(df.value_counts(normalize=True)[:topk] * 100))"
   ]
  },
  {
   "cell_type": "code",
   "execution_count": 3,
   "metadata": {
    "collapsed": true
   },
   "outputs": [],
   "source": [
    "DATA_DIR = 'data'\n",
    "ALLSIDES_DIR = os.path.join(DATA_DIR, 'AllSides')\n",
    "MBFC_DIR = os.path.join(DATA_DIR, 'MBFC')\n",
    "EXP_DIR = os.path.join(DATA_DIR, '1_Comparing_AllSides_vs_MBFC')\n",
    "\n",
    "ALLSIDES_DATA = os.path.join(ALLSIDES_DIR, 'AllSides_News.csv')\n",
    "MBFC_DATA = os.path.join(MBFC_DIR, 'MBFC_data.csv')\n",
    "RESULTS_DIR = os.path.join('results', '1_Comparing_AllSides_vs_MBFC')\n",
    "\n",
    "BIAS_LIST = ['left', 'left-center', 'center', 'right-center', 'right']\n",
    "\n",
    "colors = ['#1f77b4', '#ff7f0e', '#2ca02c', '#d62728', '#9467bd',\n",
    "          '#8c564b', '#e377c2', '#7f7f7f', '#bcbd22', '#17becf']\n",
    "color_RdBu = ['#3b4cc0', '#8db0fe','#bababa','#f49a7b','#b40426']"
   ]
  },
  {
   "cell_type": "code",
   "execution_count": null,
   "metadata": {
    "collapsed": true
   },
   "outputs": [],
   "source": []
  }
 ],
 "metadata": {
  "kernelspec": {
   "display_name": "Python [conda env:pyv36]",
   "language": "python",
   "name": "conda-env-pyv36-py"
  },
  "language_info": {
   "codemirror_mode": {
    "name": "ipython",
    "version": 3
   },
   "file_extension": ".py",
   "mimetype": "text/x-python",
   "name": "python",
   "nbconvert_exporter": "python",
   "pygments_lexer": "ipython3",
   "version": "3.6.10"
  }
 },
 "nbformat": 4,
 "nbformat_minor": 2
}
